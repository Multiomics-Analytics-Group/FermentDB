{
 "cells": [
  {
   "cell_type": "markdown",
   "id": "0ded6013",
   "metadata": {},
   "source": [
    "# Database loader\n",
    "This notebook provides a step-by-step guide for loading data into an ArangoDB database."
   ]
  },
  {
   "cell_type": "code",
   "execution_count": 44,
   "id": "c0e58ba5-83b7-4964-a4de-b6a8771603d7",
   "metadata": {},
   "outputs": [],
   "source": [
    "# 1. Install dependencies\n",
    "#! pip install python-arango --upgrade"
   ]
  },
  {
   "cell_type": "code",
   "execution_count": 45,
   "id": "b7559419-a98a-4e1c-8064-68235d7bb6ce",
   "metadata": {},
   "outputs": [],
   "source": [
    "# 2. Import modules\n",
    "import os\n",
    "import json\n",
    "from arango import ArangoClient\n",
    "\n",
    "import pandas as pd \n",
    "import plotly.express as px\n",
    "from datetime import datetime\n",
    "import hashlib"
   ]
  },
  {
   "cell_type": "code",
   "execution_count": 46,
   "id": "c769d784",
   "metadata": {},
   "outputs": [],
   "source": [
    "# 3. Define file paths\n",
    "db_dir = '../output'\n",
    "db_nodes_path = os.path.join(db_dir, \"fermentdb_nodes_full.json\")\n",
    "db_edges_path = os.path.join(db_dir, \"fermentdb_edges_full.json\")"
   ]
  },
  {
   "cell_type": "markdown",
   "id": "270df8d7",
   "metadata": {},
   "source": [
    "### 1. Load data: nodes and edges dictionaries. "
   ]
  },
  {
   "cell_type": "code",
   "execution_count": 47,
   "id": "5d9ca7be",
   "metadata": {},
   "outputs": [],
   "source": [
    "# Load nodes json\n",
    "with open(db_nodes_path, 'r') as dbfile:\n",
    "    collections_str = dbfile.read()\n",
    "\n",
    "nodes = json.loads(collections_str)"
   ]
  },
  {
   "cell_type": "code",
   "execution_count": 48,
   "id": "d5e67468",
   "metadata": {},
   "outputs": [],
   "source": [
    "# Load edges json\n",
    "with open(db_edges_path, 'r') as dbfile:\n",
    "    edges_str = dbfile.read()\n",
    "\n",
    "edges = json.loads(edges_str)"
   ]
  },
  {
   "cell_type": "markdown",
   "id": "b084a5cc",
   "metadata": {},
   "source": [
    "### 2. Connect to ArangoDB"
   ]
  },
  {
   "cell_type": "code",
   "execution_count": 49,
   "id": "0cce42b9-2ebb-455f-83ad-8519a6a610aa",
   "metadata": {},
   "outputs": [
    {
     "name": "stdout",
     "output_type": "stream",
     "text": [
      "['_system', 'fermentdb']\n"
     ]
    }
   ],
   "source": [
    "# Initialize the client for ArangoDB.\n",
    "# client = ArangoClient(hosts=\"http://localhost:8529\")\n",
    "\n",
    "# Connect to \"_system\" database as root user.\n",
    "sys_db = client.db(\"_system\", username=\"root\", password= \"\")\n",
    "# sys_db = client.db(\"_system\", username=\"root\", password=\"psswrd\")\n",
    "\n",
    "# Create a new database named \"fermentdb\" if it does not exist.\n",
    "if not sys_db.has_database('fermentdb'):\n",
    "    sys_db.create_database('fermentdb')\n",
    "\n",
    "# Retrieve the names of all databases on the server as list of strings\n",
    "db_list = sys_db.databases()\n",
    "print(db_list)"
   ]
  },
  {
   "cell_type": "markdown",
   "id": "fc2a43ed",
   "metadata": {},
   "source": [
    "### 3. Connect to FermentDB and create collections: nodes and edges"
   ]
  },
  {
   "cell_type": "code",
   "execution_count": 50,
   "id": "a73b8260",
   "metadata": {},
   "outputs": [],
   "source": [
    "# Connect to \"fermentdb\" database as root user.\n",
    "# db = client.db(\"fermentdb\", username=\"root\", password=\"psswrd\")"
   ]
  },
  {
   "cell_type": "code",
   "execution_count": 51,
   "id": "5fc73875",
   "metadata": {},
   "outputs": [],
   "source": [
    "# Create graph fermentdb if it does not exist.\n",
    "if not db.has_graph('fermentdb'):\n",
    "    db.create_graph('fermentdb')\n",
    "\n",
    "fermentdb = db.graph('fermentdb')"
   ]
  },
  {
   "cell_type": "code",
   "execution_count": 52,
   "id": "f7a6b87d",
   "metadata": {},
   "outputs": [],
   "source": [
    "# db.delete_graph('fermentdb', drop_collections=True)"
   ]
  },
  {
   "cell_type": "code",
   "execution_count": 53,
   "metadata": {},
   "outputs": [
    {
     "name": "stdout",
     "output_type": "stream",
     "text": [
      "----\n",
      "----\n"
     ]
    },
    {
     "data": {
      "text/plain": [
       "[{'edge_collection': 'belongs_to',\n",
       "  'from_vertex_collections': ['Strain'],\n",
       "  'to_vertex_collections': ['Species']},\n",
       " {'edge_collection': 'created_at',\n",
       "  'from_vertex_collections': ['Project'],\n",
       "  'to_vertex_collections': ['Institution']},\n",
       " {'edge_collection': 'created_by',\n",
       "  'from_vertex_collections': ['Project'],\n",
       "  'to_vertex_collections': ['User']},\n",
       " {'edge_collection': 'cultures_strain',\n",
       "  'from_vertex_collections': ['Run'],\n",
       "  'to_vertex_collections': ['Strain']},\n",
       " {'edge_collection': 'from',\n",
       "  'from_vertex_collections': ['Institution'],\n",
       "  'to_vertex_collections': ['Country']},\n",
       " {'edge_collection': 'has_batch',\n",
       "  'from_vertex_collections': ['Project'],\n",
       "  'to_vertex_collections': ['Batch_cell_culture']},\n",
       " {'edge_collection': 'has_condition',\n",
       "  'from_vertex_collections': ['Run'],\n",
       "  'to_vertex_collections': ['Process_condition']},\n",
       " {'edge_collection': 'has_initial_condition',\n",
       "  'from_vertex_collections': ['Run'],\n",
       "  'to_vertex_collections': ['Initial_condition']},\n",
       " {'edge_collection': 'has_phase',\n",
       "  'from_vertex_collections': ['Run'],\n",
       "  'to_vertex_collections': ['Phase_event']},\n",
       " {'edge_collection': 'has_run',\n",
       "  'from_vertex_collections': ['Batch_cell_culture'],\n",
       "  'to_vertex_collections': ['Run']},\n",
       " {'edge_collection': 'uses_fermenter',\n",
       "  'from_vertex_collections': ['Run'],\n",
       "  'to_vertex_collections': ['Fermenter']},\n",
       " {'edge_collection': 'works_at',\n",
       "  'from_vertex_collections': ['User'],\n",
       "  'to_vertex_collections': ['Institution']}]"
      ]
     },
     "execution_count": 53,
     "metadata": {},
     "output_type": "execute_result"
    }
   ],
   "source": [
    "# Check graph\n",
    "db.graphs()\n",
    "print(\"----\")\n",
    "fermentdb.name\n",
    "fermentdb.db_name\n",
    "fermentdb.vertex_collections()\n",
    "print(\"----\")\n",
    "fermentdb.edge_definitions()"
   ]
  },
  {
   "cell_type": "code",
   "execution_count": 54,
   "id": "2a48d564",
   "metadata": {},
   "outputs": [
    {
     "data": {
      "text/plain": [
       "['Batch_cell_culture',\n",
       " 'Country',\n",
       " 'Fermenter',\n",
       " 'Initial_condition',\n",
       " 'Institution',\n",
       " 'Phase_event',\n",
       " 'Process_condition',\n",
       " 'Project',\n",
       " 'Run',\n",
       " 'Species',\n",
       " 'Strain',\n",
       " 'User']"
      ]
     },
     "execution_count": 54,
     "metadata": {},
     "output_type": "execute_result"
    }
   ],
   "source": [
    "# Load node/vertex collections\n",
    "for node in nodes:\n",
    "    if fermentdb.has_vertex_collection(node):\n",
    "        v = fermentdb.vertex_collection(node)\n",
    "    else:\n",
    "        v = fermentdb.create_vertex_collection(node)\n",
    "\n",
    "    if type(nodes[node]) != list:\n",
    "        nodes[node] = [nodes[node]]\n",
    "    \n",
    "    v.insert_many(nodes[node])\n",
    "\n",
    "# List vertex collections in the graph.\n",
    "fermentdb.vertex_collections()"
   ]
  },
  {
   "cell_type": "code",
   "execution_count": 55,
   "id": "22622992",
   "metadata": {},
   "outputs": [
    {
     "data": {
      "text/plain": [
       "[{'edge_collection': 'belongs_to',\n",
       "  'from_vertex_collections': ['Strain'],\n",
       "  'to_vertex_collections': ['Species']},\n",
       " {'edge_collection': 'created_at',\n",
       "  'from_vertex_collections': ['Project'],\n",
       "  'to_vertex_collections': ['Institution']},\n",
       " {'edge_collection': 'created_by',\n",
       "  'from_vertex_collections': ['Project'],\n",
       "  'to_vertex_collections': ['User']},\n",
       " {'edge_collection': 'cultures_strain',\n",
       "  'from_vertex_collections': ['Run'],\n",
       "  'to_vertex_collections': ['Strain']},\n",
       " {'edge_collection': 'from',\n",
       "  'from_vertex_collections': ['Institution'],\n",
       "  'to_vertex_collections': ['Country']},\n",
       " {'edge_collection': 'has_batch',\n",
       "  'from_vertex_collections': ['Project'],\n",
       "  'to_vertex_collections': ['Batch_cell_culture']},\n",
       " {'edge_collection': 'has_condition',\n",
       "  'from_vertex_collections': ['Run'],\n",
       "  'to_vertex_collections': ['Process_condition']},\n",
       " {'edge_collection': 'has_initial_condition',\n",
       "  'from_vertex_collections': ['Run'],\n",
       "  'to_vertex_collections': ['Initial_condition']},\n",
       " {'edge_collection': 'has_phase',\n",
       "  'from_vertex_collections': ['Run'],\n",
       "  'to_vertex_collections': ['Phase_event']},\n",
       " {'edge_collection': 'has_run',\n",
       "  'from_vertex_collections': ['Batch_cell_culture'],\n",
       "  'to_vertex_collections': ['Run']},\n",
       " {'edge_collection': 'uses_fermenter',\n",
       "  'from_vertex_collections': ['Run'],\n",
       "  'to_vertex_collections': ['Fermenter']},\n",
       " {'edge_collection': 'works_at',\n",
       "  'from_vertex_collections': ['User'],\n",
       "  'to_vertex_collections': ['Institution']}]"
      ]
     },
     "execution_count": 55,
     "metadata": {},
     "output_type": "execute_result"
    }
   ],
   "source": [
    "# Load edges collections\n",
    "for edge in edges:\n",
    "    if fermentdb.has_edge_definition(edge):\n",
    "        e = fermentdb.edge_collection(edge)\n",
    "    else:\n",
    "        e = fermentdb.create_edge_definition(\n",
    "            edge_collection=edge,\n",
    "            from_vertex_collections=edges[edge]['from_collection'],\n",
    "            to_vertex_collections=edges[edge]['to_collection']\n",
    "        )\n",
    "    # if not fermentdb.has_edge_definition(edge):\n",
    "    #     e = fermentdb.create_edge_definition(\n",
    "    #         edge_collection=edge,\n",
    "    #         from_vertex_collections=edges[edge]['from_collection'],\n",
    "    #         to_vertex_collections=edges[edge]['to_collection']\n",
    "    #     )\n",
    "    for l in edges[edge]['edges']:\n",
    "        e.insert(l)\n",
    "    \n",
    "    # List edge definitions.\n",
    "fermentdb.edge_definitions()"
   ]
  },
  {
   "cell_type": "markdown",
   "id": "1ebba63e",
   "metadata": {},
   "source": [
    "### 4. AQL Queries"
   ]
  },
  {
   "cell_type": "code",
   "execution_count": 56,
   "id": "9ca62b7b",
   "metadata": {},
   "outputs": [],
   "source": [
    "# Function Definitions\n",
    "\n",
    "def get_hash(key, prefix=\"\"):\n",
    "    hkey = str(int(hashlib.sha1(key.encode(\"utf-8\")).hexdigest(), 16) % (10 ** 8))\n",
    "    hkey = f\"{prefix}{hkey}\"\n",
    "    \n",
    "    return hkey\n",
    "\n",
    "def get_condition_data(strain, condition,fermenter):\n",
    "    condition = [f\"Process_condition/{get_hash(c, prefix='C')}\" for c in condition]\n",
    "    \n",
    "    query = '''FOR doc IN Run\n",
    "      FILTER doc.strain_batch == @val AND doc.container_type == @fermenter\n",
    "      FOR v, e IN 1..1 OUTBOUND doc has_condition\n",
    "        FILTER e._to IN @condition\n",
    "        RETURN { source: doc, target: v, edge: e }\n",
    "    '''\n",
    "                   \n",
    "    cursor = db.aql.execute(query,bind_vars={'val': strain,\n",
    "                              'condition':condition, 'fermenter': fermenter})\n",
    "\n",
    "    \n",
    "    result = [doc for doc in cursor]\n",
    "\n",
    "    return result\n"
   ]
  },
  {
   "cell_type": "code",
   "execution_count": 57,
   "id": "fdd587b1",
   "metadata": {},
   "outputs": [],
   "source": [
    "# def get_hash(key, prefix=\"\"):\n",
    "#     hkey = str(int(hashlib.sha1(key.encode(\"utf-8\")).hexdigest(), 16) % (10 ** 8))\n",
    "#     hkey = f\"{prefix}{hkey}\"\n",
    "    \n",
    "#     return hkey\n",
    "\n",
    "# def get_condition_data(strain, condition, fermenter):\n",
    "#     condition = [f\"Process_condition/{get_hash(c, prefix='C')}\" for c in condition]\n",
    "#     strain = [f\"Strain/{get_hash(s, prefix='S')}\" for s in strain]\n",
    "#     fermenter = f\"Fermenter/{fermenter}\"\n",
    "\n",
    "#     query = '''FOR doc IN Run\n",
    "#       FOR v, e IN 1..1 OUTBOUND doc uses_fermenter\n",
    "#         FILTER e._to == @fermenter\n",
    "#         FOR ve, ed IN 1..1 OUTBOUND doc cultures_strain\n",
    "#           FILTER ed._to IN @strain\n",
    "#           FOR vertex, edge IN 1..1 OUTBOUND doc has_condition\n",
    "#             FILTER edge._to IN @condition\n",
    "#             RETURN { source: doc, target: vertex, edge: edge }\n",
    "#     '''\n",
    "#                  \n",
    "#     cursor = db.aql.execute(query,bind_vars={'strain': strain,\n",
    "#                               'condition':condition, 'fermenter': fermenter})\n",
    "\n",
    "    \n",
    "#     result = [doc for doc in cursor]\n",
    "\n",
    "#     return result"
   ]
  },
  {
   "cell_type": "markdown",
   "id": "eea5060a",
   "metadata": {},
   "source": [
    "### 5. Plot conditions"
   ]
  },
  {
   "cell_type": "code",
   "execution_count": 58,
   "id": "735e9336",
   "metadata": {},
   "outputs": [],
   "source": [
    "# Function Definitions\n",
    "\n",
    "def plot_condition(strain, condition, fermenter):\n",
    "    result = get_condition_data(strain, condition, fermenter)\n",
    "    rows = []\n",
    "    for r in result:\n",
    "        source = r['source']['_key']\n",
    "        target = r['target']['name']\n",
    "        data = r['edge']['data']\n",
    "        timestamps = r['edge']['timestamps']\n",
    "        rows.append(pd.DataFrame({'run': source, 'data':data, 'time': timestamps, 'condition': target}))\n",
    "    \n",
    "    df = pd.concat(rows)\n",
    "    df['time'] = df['time'].apply(lambda t: datetime.fromtimestamp(t))\n",
    "    df = df.sort_values(by=\"time\")\n",
    "    fig = px.line(df, x=\"time\", y=\"data\", color='run', line_dash='condition')\n",
    "    fig.show(renderer='notebook')\n",
    "    # fig.show(renderer='iframe')"
   ]
  },
  {
   "cell_type": "code",
   "execution_count": null,
   "id": "52b6296d",
   "metadata": {},
   "outputs": [],
   "source": [
    "# Plot condition\n",
    "\n",
    "plot_condition(strain=\"Strain1\", condition=[\"D-glucose\"], fermenter=\"AMBR 250\")\n",
    "# plot_condition(strain=\"Strain1\", condition=[\"D-glucose\"], fermenter=\"Ambr250\")"
   ]
  }
 ],
 "metadata": {
  "kernelspec": {
   "display_name": "Python 3",
   "language": "python",
   "name": "python3"
  },
  "language_info": {
   "codemirror_mode": {
    "name": "ipython",
    "version": 3
   },
   "file_extension": ".py",
   "mimetype": "text/x-python",
   "name": "python",
   "nbconvert_exporter": "python",
   "pygments_lexer": "ipython3",
   "version": "3.9.19"
  }
 },
 "nbformat": 4,
 "nbformat_minor": 5
}
