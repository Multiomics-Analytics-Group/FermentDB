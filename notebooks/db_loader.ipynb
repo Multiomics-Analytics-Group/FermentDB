{
 "cells": [
  {
   "cell_type": "code",
   "execution_count": 1,
   "id": "c0e58ba5-83b7-4964-a4de-b6a8771603d7",
   "metadata": {},
   "outputs": [],
   "source": [
    "#!pip install python-arango --upgrade"
   ]
  },
  {
   "cell_type": "code",
   "execution_count": 9,
   "id": "b7559419-a98a-4e1c-8064-68235d7bb6ce",
   "metadata": {},
   "outputs": [],
   "source": [
    "import json\n",
    "from arango import ArangoClient"
   ]
  },
  {
   "cell_type": "code",
   "execution_count": 28,
   "id": "0cce42b9-2ebb-455f-83ad-8519a6a610aa",
   "metadata": {},
   "outputs": [],
   "source": [
    "# Initialize the client for ArangoDB.\n",
    "client = ArangoClient(hosts=\"http://localhost:8529\")\n",
    "\n",
    "# Connect to \"_system\" database as root user.\n",
    "sys_db = client.db(\"_system\", username=\"root\", password=\"openSesame\")\n",
    "\n",
    "# Create a new database named \"test\".\n",
    "sys_db.create_database(\"fermentdb_test\")\n",
    "\n",
    "# Connect to \"test\" database as root user.\n",
    "db = client.db(\"fermentdb_test\", username=\"root\", password=\"openSesame\")"
   ]
  },
  {
   "cell_type": "code",
   "execution_count": 34,
   "id": "767ced4a-22f0-4c8b-a9d4-a085ad440ee0",
   "metadata": {},
   "outputs": [],
   "source": [
    "with open('fermentdb.json', 'r') as dbfile:\n",
    "    collections_str = dbfile.read()"
   ]
  },
  {
   "cell_type": "code",
   "execution_count": 35,
   "id": "676360f0-d1dc-4b3b-bfe3-fafaa293a6d2",
   "metadata": {},
   "outputs": [],
   "source": [
    "collections = json.loads(collections_str)"
   ]
  },
  {
   "cell_type": "code",
   "execution_count": 36,
   "id": "53477565-9fd4-40bd-9c3f-533c6f970f2d",
   "metadata": {},
   "outputs": [],
   "source": [
    "for k in collections:\n",
    "    if not db.has_collection(k):\n",
    "        db.create_collection(k)\n",
    "    db.insert_document(k, collections[k])"
   ]
  },
  {
   "cell_type": "code",
   "execution_count": 37,
   "id": "7a0612a0-1274-46f0-8f0d-f59b8205fe08",
   "metadata": {},
   "outputs": [],
   "source": [
    "projects = db.collection('Project')"
   ]
  },
  {
   "cell_type": "code",
   "execution_count": 42,
   "id": "57806af8-d718-46a6-9472-697e8da7393c",
   "metadata": {},
   "outputs": [
    {
     "name": "stdout",
     "output_type": "stream",
     "text": [
      "38565\n"
     ]
    }
   ],
   "source": [
    "for i in projects.keys():\n",
    "    print(i)"
   ]
  },
  {
   "cell_type": "code",
   "execution_count": 47,
   "id": "8c382c41-b2e6-4eeb-9db7-4214a8c09e5d",
   "metadata": {},
   "outputs": [
    {
     "data": {
      "text/plain": [
       "{'_key': '38565',\n",
       " '_id': 'Project/38565',\n",
       " '_rev': '_hpk_rTS---',\n",
       " 'id': 15,\n",
       " 'name': 'CrashMS_high resolution HD experiment',\n",
       " 'description': '',\n",
       " 'progress': 80,\n",
       " 'status': 20,\n",
       " 'deletable': False,\n",
       " 'editable': False,\n",
       " 'type': 'standard',\n",
       " 'creation_time': '2022-06-28T07:30:45.314248Z',\n",
       " 'tags': [],\n",
       " 'modification_time': '2023-08-01T05:53:16.195881Z',\n",
       " 'start': '2022-06-28T07:30:45.243000Z',\n",
       " 'end': None}"
      ]
     },
     "execution_count": 47,
     "metadata": {},
     "output_type": "execute_result"
    }
   ],
   "source": [
    "projects.find({'id':15}).pop()"
   ]
  }
 ],
 "metadata": {
  "kernelspec": {
   "display_name": "Python 3 (ipykernel)",
   "language": "python",
   "name": "python3"
  },
  "language_info": {
   "codemirror_mode": {
    "name": "ipython",
    "version": 3
   },
   "file_extension": ".py",
   "mimetype": "text/x-python",
   "name": "python",
   "nbconvert_exporter": "python",
   "pygments_lexer": "ipython3",
   "version": "3.12.2"
  }
 },
 "nbformat": 4,
 "nbformat_minor": 5
}
