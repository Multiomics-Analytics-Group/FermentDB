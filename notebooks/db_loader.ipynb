{
 "cells": [
  {
   "cell_type": "markdown",
   "id": "0ded6013",
   "metadata": {},
   "source": [
    "# Database loader\n",
    "This notebook provides a step-by-step guide for loading data into an ArangoDB database."
   ]
  },
  {
   "cell_type": "code",
   "execution_count": null,
   "id": "c0e58ba5-83b7-4964-a4de-b6a8771603d7",
   "metadata": {},
   "outputs": [],
   "source": [
    "# 1. Install dependencies\n",
    "#! pip install python-arango --upgrade"
   ]
  },
  {
   "cell_type": "code",
   "execution_count": 3,
   "id": "b7559419-a98a-4e1c-8064-68235d7bb6ce",
   "metadata": {},
   "outputs": [],
   "source": [
    "# 2. Import modules\n",
    "import os\n",
    "import json\n",
    "import sys\n",
    "from arango import ArangoClient, DocumentInsertError\n",
    "from streamlit_arango.config import Config\n"
   ]
  },
  {
   "cell_type": "code",
   "execution_count": 4,
   "id": "c769d784",
   "metadata": {},
   "outputs": [],
   "source": [
    "# 3. Define file paths\n",
    "db_dir = '../output'\n",
    "db_nodes_path = os.path.join(db_dir, \"fermentdb_nodes_full.json\")\n",
    "db_edges_path = os.path.join(db_dir, \"fermentdb_edges_full.json\")"
   ]
  },
  {
   "cell_type": "markdown",
   "id": "270df8d7",
   "metadata": {},
   "source": [
    "### 1. Load data: nodes and edges dictionaries. "
   ]
  },
  {
   "cell_type": "code",
   "execution_count": 5,
   "id": "5d9ca7be",
   "metadata": {},
   "outputs": [],
   "source": [
    "# Load nodes json\n",
    "with open(db_nodes_path, 'r') as dbfile:\n",
    "    collections_str = dbfile.read()\n",
    "\n",
    "nodes = json.loads(collections_str)"
   ]
  },
  {
   "cell_type": "code",
   "execution_count": 6,
   "id": "d5e67468",
   "metadata": {},
   "outputs": [],
   "source": [
    "# Load edges json\n",
    "with open(db_edges_path, 'r') as dbfile:\n",
    "    edges_str = dbfile.read()\n",
    "\n",
    "edges = json.loads(edges_str)"
   ]
  },
  {
   "cell_type": "markdown",
   "id": "b084a5cc",
   "metadata": {},
   "source": [
    "### 2. Connect to ArangoDB"
   ]
  },
  {
   "cell_type": "code",
   "execution_count": 7,
   "id": "0cce42b9-2ebb-455f-83ad-8519a6a610aa",
   "metadata": {},
   "outputs": [
    {
     "name": "stdout",
     "output_type": "stream",
     "text": [
      "['_system', 'fermentdb']\n"
     ]
    }
   ],
   "source": [
    "# Initialize the client for ArangoDB.\n",
    "client = ArangoClient(hosts=Config.ArangoDB.host)\n",
    "# client = ArangoClient(hosts=\"http://localhost:8529\")\n",
    "\n",
    "# Connect to \"_system\" database as root user.\n",
    "sys_db = client.db(\"_system\", username=Config.ArangoDB.username, password= Config.ArangoDB.password)\n",
    "# sys_db = client.db(\"_system\", username=\"root\", password= \"\")\n",
    "\n",
    "# Create a new database named \"fermentdb\" if it does not exist.\n",
    "if not sys_db.has_database(Config.ArangoDB.database):\n",
    "    sys_db.create_database(Config.ArangoDB.database)\n",
    "\n",
    "# Retrieve the names of all databases on the server as list of strings\n",
    "db_list = sys_db.databases()\n",
    "print(db_list)"
   ]
  },
  {
   "cell_type": "markdown",
   "id": "fc2a43ed",
   "metadata": {},
   "source": [
    "### 3. Connect to FermentDB and create collections: nodes and edges"
   ]
  },
  {
   "cell_type": "code",
   "execution_count": 8,
   "id": "a73b8260",
   "metadata": {},
   "outputs": [],
   "source": [
    "# Connect to \"fermentdb\" database as root user.\n",
    "db = client.db(Config.ArangoDB.database, username=Config.ArangoDB.username, password=Config.ArangoDB.password)\n",
    "# db = client.db(\"fermentdb\", username=\"root\", password=\"\")"
   ]
  },
  {
   "cell_type": "code",
   "execution_count": 14,
   "id": "5fc73875",
   "metadata": {},
   "outputs": [],
   "source": [
    "# Create graph fermentdb if it does not exist.\n",
    "if db.has_graph(Config.ArangoDB.database):\n",
    "    db.delete_graph(Config.ArangoDB.database, drop_collections=True)\n",
    "    db.create_graph(Config.ArangoDB.database)\n",
    "else:\n",
    "    db.create_graph(Config.ArangoDB.database)\n",
    "\n",
    "fermentdb = db.graph(Config.ArangoDB.database)"
   ]
  },
  {
   "cell_type": "code",
   "execution_count": 15,
   "metadata": {},
   "outputs": [
    {
     "name": "stdout",
     "output_type": "stream",
     "text": [
      "----\n",
      "----\n"
     ]
    },
    {
     "data": {
      "text/plain": [
       "[]"
      ]
     },
     "execution_count": 15,
     "metadata": {},
     "output_type": "execute_result"
    }
   ],
   "source": [
    "# Check graph\n",
    "db.graphs()\n",
    "print(\"----\")\n",
    "fermentdb.name\n",
    "fermentdb.db_name\n",
    "fermentdb.vertex_collections()\n",
    "print(\"----\")\n",
    "fermentdb.edge_definitions()"
   ]
  },
  {
   "cell_type": "code",
   "execution_count": null,
   "id": "2a48d564",
   "metadata": {},
   "outputs": [],
   "source": [
    "# Load node/vertex collections\n",
    "for node in nodes:\n",
    "    if fermentdb.has_vertex_collection(node):\n",
    "        v = fermentdb.vertex_collection(node)\n",
    "    else:\n",
    "        v = fermentdb.create_vertex_collection(node)\n",
    "\n",
    "    if type(nodes[node]) != list:\n",
    "        nodes[node] = [nodes[node]]\n",
    "    \n",
    "    v.insert_many(nodes[node])\n",
    "\n",
    "# List vertex collections in the graph.\n",
    "fermentdb.vertex_collections()"
   ]
  },
  {
   "cell_type": "code",
   "execution_count": null,
   "id": "22622992",
   "metadata": {},
   "outputs": [],
   "source": [
    "# Load edges collections\n",
    "missing_docs = []\n",
    "for edge in edges:\n",
    "    if fermentdb.has_edge_definition(edge):\n",
    "        e = fermentdb.edge_collection(edge)\n",
    "    else:\n",
    "        e = fermentdb.create_edge_definition(\n",
    "            edge_collection=edge,\n",
    "            from_vertex_collections=edges[edge]['from_collection'],\n",
    "            to_vertex_collections=edges[edge]['to_collection']\n",
    "        )\n",
    "        \n",
    "    # if not fermentdb.has_edge_definition(edge):\n",
    "    #     e = fermentdb.create_edge_definition(\n",
    "    #         edge_collection=edge,\n",
    "    #         from_vertex_collections=edges[edge]['from_collection'],\n",
    "    #         to_vertex_collections=edges[edge]['to_collection']\n",
    "    #     )\n",
    "\n",
    "    for l in edges[edge]['edges']:\n",
    "        try:\n",
    "            e.insert(l)\n",
    "        except DocumentInsertError as exc:\n",
    "            missing_docs.append(l)\n",
    "    \n",
    "    # List edge definitions.\n",
    "fermentdb.edge_definitions()"
   ]
  }
 ],
 "metadata": {
  "kernelspec": {
   "display_name": "Python 3",
   "language": "python",
   "name": "python3"
  },
  "language_info": {
   "codemirror_mode": {
    "name": "ipython",
    "version": 3
   },
   "file_extension": ".py",
   "mimetype": "text/x-python",
   "name": "python",
   "nbconvert_exporter": "python",
   "pygments_lexer": "ipython3",
   "version": "3.10.14"
  }
 },
 "nbformat": 4,
 "nbformat_minor": 5
}
