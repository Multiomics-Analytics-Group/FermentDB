{
 "cells": [
  {
   "cell_type": "code",
   "execution_count": 2,
   "id": "715d21d9-a12b-41a7-82ea-fa209c340638",
   "metadata": {
    "tags": []
   },
   "outputs": [],
   "source": [
    "import os\n",
    "import json"
   ]
  },
  {
   "cell_type": "code",
   "execution_count": 3,
   "id": "c2c3e5f9-a0c9-4eb5-b069-d1f7e2358459",
   "metadata": {
    "tags": []
   },
   "outputs": [],
   "source": [
    "# set parameters and paths\n",
    "data_dir = \"../data\"\n",
    "out_dir = \"../outputs\"\n",
    "\n",
    "db_path = os.path.join(data_dir, \"20240328_dataset for ambrDB_DDBproject.json\")"
   ]
  },
  {
   "cell_type": "code",
   "execution_count": 4,
   "id": "07d3b258-4153-4372-8738-e402d407637d",
   "metadata": {
    "tags": []
   },
   "outputs": [],
   "source": [
    "with open(db_path, 'r') as dbfile:\n",
    "    db = json.load(dbfile)"
   ]
  },
  {
   "cell_type": "code",
   "execution_count": 5,
   "id": "96cd7b3d-f5c3-4f34-a659-ab3fc268beb6",
   "metadata": {
    "tags": []
   },
   "outputs": [
    {
     "name": "stdout",
     "output_type": "stream",
     "text": [
      "dict_keys(['end', 'created_by', 'editable', 'unit_operations', 'workflow', 'creation_time', 'project', 'description', 'status', 'name', 'event_names', 'key_variable', 'id', 'type', 'result_notes', 'progress', 'country', 'manager', 'trending_settings', 'deletable', 'modification_time', 'batch_phase_names', 'tags', 'start', 'departments', 'editable_plots', 'sites', 'batches'])\n"
     ]
    },
    {
     "data": {
      "text/plain": [
       "28"
      ]
     },
     "execution_count": 5,
     "metadata": {},
     "output_type": "execute_result"
    }
   ],
   "source": [
    "print(db.keys())\n",
    "len(db.keys())"
   ]
  },
  {
   "cell_type": "code",
   "execution_count": 6,
   "id": "e5f289be",
   "metadata": {},
   "outputs": [
    {
     "name": "stdout",
     "output_type": "stream",
     "text": [
      "\n",
      "      Project number: 15\n",
      "      Dataset name: dataset for ambrDB\n",
      "      Whole number of project batches/runs: 517\n",
      "      \n"
     ]
    }
   ],
   "source": [
    "project_number = db['project']\n",
    "runs = db[\"batches\"]\n",
    "\n",
    "print(f\"\"\"\n",
    "      Project number: {project_number}\n",
    "      Dataset name: {db[\"name\"]}\n",
    "      Whole number of project batches/runs: {len(runs)}\n",
    "      \"\"\")"
   ]
  },
  {
   "cell_type": "markdown",
   "id": "825ba855",
   "metadata": {},
   "source": [
    "## Run variables exploration:\n",
    "A batch is a run in our data model. "
   ]
  },
  {
   "cell_type": "code",
   "execution_count": 7,
   "id": "07194017",
   "metadata": {},
   "outputs": [
    {
     "name": "stdout",
     "output_type": "stream",
     "text": [
      "Run 0 variables exploration:\n",
      "Accumulated sample volume -- mL\n",
      "Acetic acid formation rate -- g/h\n",
      "Acetic acid formation rate molar -- mol/h\n",
      "Acetic acid formed -- g\n",
      "Acetic acid formed c-molar -- cmol\n",
      "Acetic acid formed molar -- mol\n",
      "Acetic acid lost in sample -- g\n",
      "Acetic acid specific formation rate -- g/g(DW)*h\n",
      "Acetic acid specific formation rate molar -- mol/cmol(X)*h\n",
      "Acetic acid yield (S) -- g/g\n",
      "Acetic acid yield (X) -- g/g(DW)\n",
      "Acetic acid yield c-molar (S) -- c-mol/c-mol(S)\n",
      "Acetic acid yield c-molar (X) -- c-mol/c-mol(X)\n",
      "Acetic acid yield molar (S) -- mol/mol(S)\n",
      "Acetic acid yield molar (X) -- mol/c-mol(X)\n",
      "Acid volume -- L\n",
      "Aeration Gas Type -- dimensionless\n",
      "Air flow -- lpm\n",
      "Base Medium -- dimensionless\n",
      "Base rate -- L/h\n",
      "Base volume -- L\n",
      "Biomass amount -- g\n",
      "Biomass amount molar -- mol\n",
      "Biomass concentration -- g/L\n",
      "Biomass formation rate -- g/h\n",
      "Biomass formation rate molar -- c-mol/h\n",
      "Biomass formed -- g\n",
      "Biomass formed c-molar -- cmol\n",
      "Biomass formed molar -- mol\n",
      "Biomass lost in sample -- g\n",
      "Biomass specific growth rate µ -- 1/h\n",
      "Biomass yield (S) -- g/g\n",
      "Biomass yield c-molar (S) -- c-mol/c-mol(S)\n",
      "Biomass yield molar (S) -- c-mol/mol(S)\n",
      "C balance -- %\n",
      "C balance (using c-mols) -- dimensionless\n",
      "CO2 Q -- L/h\n",
      "CO2 accumulated -- dimensionless\n",
      "CO2 accumulated downscaled -- mol\n",
      "CO2 decimal -- dimensionless\n",
      "CO2 evolution rate -- mol/h\n",
      "CO2 molar -- mol/h\n",
      "CO2 partial integration -- dimensionless\n",
      "CO2 specific evolution rate -- mol/c-mol(X)*h\n",
      "CO2 yield (S) -- mol/mol(S)\n",
      "CO2 yield (X) -- mol/c-mol(X)\n",
      "CO2 yield c-molar (S) -- mol/c-mol(S)\n",
      "CTR -- mol/h\n",
      "Citric acid formation rate -- g/h\n",
      "Citric acid formation rate molar -- mol/h\n",
      "Citric acid formed -- g\n",
      "Citric acid formed c-molar -- cmol\n",
      "Citric acid formed molar -- mol\n",
      "Citric acid lost in sample -- g\n",
      "Citric acid specific formation rate -- g/g(DW)*h\n",
      "Citric acid specific formation rate molar -- mol/cmol(X)*h\n",
      "Citric acid yield (S) -- g/g\n",
      "Citric acid yield (X) -- g/g(DW)\n",
      "Citric acid yield c-molar (S) -- c-mol/c-mol(S)\n",
      "Citric acid yield c-molar (X) -- c-mol/c-mol(X)\n",
      "Citric acid yield molar (S) -- mol/mol(S)\n",
      "Citric acid yield molar (X) -- mol/c-mol(X)\n",
      "Consumed O2 -- mol\n",
      "Container ID (calculated) -- dimensionless\n",
      "Container Type -- dimensionless\n",
      "Control? -- dimensionless\n",
      "Culture Type -- dimensionless\n",
      "Culture Volume Unit -- dimensionless\n",
      "D -- 1/h\n",
      "D-glucose -- g/L\n",
      "D-glucose consumed -- g\n",
      "D-glucose consumed c-molar -- cmol\n",
      "D-glucose consumed molar -- mol\n",
      "D-glucose lost in sample -- g\n",
      "D-glucose specific uptake rate -- g/g(DW)*h\n",
      "D-glucose specific uptake rate molar -- mol/cmol(X)*h\n",
      "D-glucose uptake rate -- g/h\n",
      "D-glucose uptake rate molar -- mol/h\n",
      "D-glucose yield (X) -- g/g(DW)\n",
      "D-glucose yield c-molar (X) -- c-mol/c-mol(X)\n",
      "D-glucose yield molar (X) -- mol/c-mol(X)\n",
      "DO -- %\n",
      "DO Control Cascade Level 1 -- dimensionless\n",
      "DO Control Cascade Level 2 -- dimensionless\n",
      "DO Control Cascade Level 3 -- dimensionless\n",
      "DO Control Setpoint (%) -- dimensionless\n",
      "DoR (from yields) -- dimensionless\n",
      "DoR balance -- %\n",
      "Elemental C balance with reference to substrate -- dimensionless\n",
      "Experiment -- dimensionless\n",
      "Feed 1 rate gravimetric -- kg/h\n",
      "Feed 1 rate volumetric -- L/h\n",
      "Feed 1 volume -- L\n",
      "Feed Medium #1 -- dimensionless\n",
      "Feed amount -- kg\n",
      "Final Seed OD -- dimensionless\n",
      "Formed CO2 -- mol\n",
      "Initial Culture VolumeNone -- dimensionless\n",
      "Inlet air CO2 -- %\n",
      "Inlet air O2 -- %\n",
      "Lactate formation rate -- g/h\n",
      "Lactate formation rate molar -- mol/h\n",
      "Lactate formed -- g\n",
      "Lactate formed c-molar -- cmol\n",
      "Lactate formed molar -- mol\n",
      "Lactate lost in sample -- g\n",
      "Lactate specific formation rate -- g/g(DW)*h\n",
      "Lactate specific formation rate molar -- mol/cmol(X)*h\n",
      "Lactate yield (S) -- g/g\n",
      "Lactate yield (X) -- g/g(DW)\n",
      "Lactate yield c-molar (S) -- c-mol/c-mol(S)\n",
      "Lactate yield c-molar (X) -- c-mol/c-mol(X)\n",
      "Lactate yield molar (S) -- mol/mol(S)\n",
      "Lactate yield molar (X) -- mol/c-mol(X)\n",
      "Liquid volume -- L\n",
      "Liquid volume (without corrected samples) -- L\n",
      "Liquid volume downscaled -- L\n",
      "Main Culture ID -- dimensionless\n",
      "Maximum Aeration (slpm) -- dimensionless\n",
      "Maximum Stirring or Shaking Speed (rpm) -- dimensionless\n",
      "Minimum Aeration (slpm) -- dimensionless\n",
      "Minimum Stirring or Shaking Speed (rpm) -- dimensionless\n",
      "O2 Q -- L/h\n",
      "O2 accumulated -- dimensionless\n",
      "O2 accumulated downscaled -- mol\n",
      "O2 decimal -- dimensionless\n",
      "O2 molar -- mol/h\n",
      "O2 partial integration -- dimensionless\n",
      "O2 specific uptake rate -- mol/c-mol(X)*h\n",
      "O2 uptake rate -- mol/h\n",
      "O2 yield (S) -- mol/mol(S)\n",
      "O2 yield (X) -- mol/c-mol(X)\n",
      "O2 yield c-molar (S) -- mol/c-mol(S)\n",
      "OD -- dimensionless\n",
      "OTR -- mol/h\n",
      "Offgas CO2 -- %\n",
      "Offgas O2 -- %\n",
      "Pressure -- bar\n",
      "Pyruvic acid formation rate -- g/h\n",
      "Pyruvic acid formation rate molar -- mol/h\n",
      "Pyruvic acid formed -- g\n",
      "Pyruvic acid formed c-molar -- cmol\n",
      "Pyruvic acid formed molar -- mol\n",
      "Pyruvic acid lost in sample -- g\n",
      "Pyruvic acid specific formation rate -- g/g(DW)*h\n",
      "Pyruvic acid specific formation rate molar -- mol/cmol(X)*h\n",
      "Pyruvic acid yield (S) -- g/g\n",
      "Pyruvic acid yield (X) -- g/g(DW)\n",
      "Pyruvic acid yield c-molar (S) -- c-mol/c-mol(S)\n",
      "Pyruvic acid yield c-molar (X) -- c-mol/c-mol(X)\n",
      "Pyruvic acid yield molar (S) -- mol/mol(S)\n",
      "Pyruvic acid yield molar (X) -- mol/c-mol(X)\n",
      "RQ -- dimensionless\n",
      "Reactor/Plate/Flask Number -- dimensionless\n",
      "Replicate # -- dimensionless\n",
      "Residual Acetic acid amount -- g\n",
      "Residual Citric acid amount -- g\n",
      "Residual D-glucose amount -- g\n",
      "Residual Lactate amount -- g\n",
      "Residual Pyruvic acid amount -- g\n",
      "Residual Succinic acid amount -- g\n",
      "Sample ID -- dimensionless\n",
      "Sample mass -- g\n",
      "Sample volume -- mL\n",
      "Seed -- dimensionless\n",
      "Starting OD -- dimensionless\n",
      "Stirrer speed -- rpm\n",
      "Strain -- dimensionless\n",
      "Strain Batch -- dimensionless\n",
      "Succinic acid formation rate -- g/h\n",
      "Succinic acid formation rate molar -- mol/h\n",
      "Succinic acid formed -- g\n",
      "Succinic acid formed c-molar -- cmol\n",
      "Succinic acid formed molar -- mol\n",
      "Succinic acid lost in sample -- g\n",
      "Succinic acid specific formation rate -- g/g(DW)*h\n",
      "Succinic acid specific formation rate molar -- mol/cmol(X)*h\n",
      "Succinic acid yield (S) -- g/g\n",
      "Succinic acid yield (X) -- g/g(DW)\n",
      "Succinic acid yield c-molar (S) -- c-mol/c-mol(S)\n",
      "Succinic acid yield c-molar (X) -- c-mol/c-mol(X)\n",
      "Succinic acid yield molar (S) -- mol/mol(S)\n",
      "Succinic acid yield molar (X) -- mol/c-mol(X)\n",
      "Temperature -- °C\n",
      "Temperature Setpoint (C) -- dimensionless\n",
      "Volume AddedNone -- dimensionless\n",
      "Volume UnitNone -- dimensionless\n",
      "Volume to AddNone -- dimensionless\n",
      "acetic acid -- g/L\n",
      "ammonium -- mmol/L\n",
      "citric acid -- g/L\n",
      "lactate -- g/L\n",
      "pH -- dimensionless\n",
      "pH Control Base Solution -- dimensionless\n",
      "pH Setpoint -- dimensionless\n",
      "pyruvic acid -- g/L\n",
      "succinic acid -- g/L\n"
     ]
    }
   ],
   "source": [
    "# Run 0 variables exploration:\n",
    "print(\"Run 0 variables exploration:\")\n",
    "\n",
    "variables = runs[0]['variables']\n",
    "\n",
    "for var in variables:\n",
    "    print(var[\"name\"], \"--\",var[\"unit\"])"
   ]
  },
  {
   "cell_type": "code",
   "execution_count": 15,
   "id": "4c72355a",
   "metadata": {},
   "outputs": [
    {
     "name": "stdout",
     "output_type": "stream",
     "text": [
      "{'Formed CO2', 'Offgas CO2', 'pH Control Base Solution', 'DO Control Cascade Level 1', 'Reflectance_baselined', 'Mn_Biomass', 'Zn_Extracellular', 'Cu_Biomass', 'Cu_Extracellular', 'Base rate', 'Ca_Extracellular', 'Air flow', 'Aeration Gas Type', 'D-glucose', 'Maximum Aeration (slpm)', 'DO Control Cascade Level 3', 'CTR', 'Mg_Biomass', 'Pressure', 'Base volume', 'Fe_Biomass', 'Starting OD', 'Co_Biomass', 'Feed Medium #1', 'Inlet air O2', 'Culture Volume Unit', 'Na_Extracellular', 'Mo_Biomass', 'Replicate #', 'Seed', 'Temperature Setpoint (C)', 'RQ', 'Sample ID', 'Mo_Extracellular', 'Initial Culture VolumeNone', 'Ni_Biomass', 'Ni_Extracellular', 'Liquid volume', 'DO Control Setpoint (%)', 'Mn_Extracellular', 'Zn_Biomass', 'Fe_Extracellular', 'Container Type', 'DO', 'Temperature', 'Sample volume', 'OTR', 'Control?', 'Container ID (calculated)', 'Feed 1 rate volumetric', 'K_Extracellular', 'Reactor/Plate/Flask Number', 'Maximum Stirring or Shaking Speed (rpm)', 'Offgas O2', 'Consumed O2', 'Ca_Biomass', 'Culture Type', 'Feed 1 volume', 'pH', 'pH Setpoint', 'DO Control Cascade Level 2', 'Minimum Aeration (slpm)', 'acetic acid', 'K_Biomass', 'Base Medium', 'Experiment', 'OD', 'Co_Extracellular', 'Stirrer speed', 'Strain Batch', 'Na_Biomass', 'Mg_Extracellular', 'citric acid', 'Minimum Stirring or Shaking Speed (rpm)'}\n",
      "74\n"
     ]
    }
   ],
   "source": [
    "# Unique variables set\n",
    "\n",
    "for i,run in enumerate(runs):\n",
    "\n",
    "    variables = run['variables']\n",
    "    unique_variables = set()\n",
    "\n",
    "    for var in variables:\n",
    "        unique_variables.add(var['name'])\n",
    "        # if '_RNAseq' in var[\"name\"]:\n",
    "        #     print(var[\"name\"], \"--\",var[\"unit\"])\n",
    "        # else:\n",
    "        #     continue\n",
    "\n",
    "print(unique_variables)\n",
    "print(len(unique_variables))"
   ]
  },
  {
   "cell_type": "markdown",
   "id": "037b13a0",
   "metadata": {},
   "source": [
    "## Project exploration"
   ]
  },
  {
   "cell_type": "code",
   "execution_count": 90,
   "id": "2b5d8586",
   "metadata": {},
   "outputs": [],
   "source": [
    "def get_run_names(runs):\n",
    "    names = []\n",
    "    for i in range(len(runs)):\n",
    "        names.append(runs[i][\"name\"])\n",
    "    return names"
   ]
  },
  {
   "cell_type": "code",
   "execution_count": 117,
   "id": "98602c09",
   "metadata": {},
   "outputs": [],
   "source": [
    "# db[batches][run][\"variables\"][var][\"target_key\"] --> return target_value\n",
    "def get_unique_values(runs, target_variable_names):\n",
    "    values = []\n",
    "\n",
    "    for run in runs:\n",
    "        for variable in run[\"variables\"]:\n",
    "            if variable[\"name\"] in target_variable_names:\n",
    "                values.append(variable[\"data\"])\n",
    "\n",
    "    return list(set(values))\n",
    "\n",
    "def get_medium_names(runs):\n",
    "    target_variable_names = ['Base Medium', 'Feed Medium #1']\n",
    "    \n",
    "    return get_unique_values(runs, target_variable_names)\n",
    "\n",
    "def get_experiment_names(runs):\n",
    "    target_variable_names = ['Experiment']\n",
    "    return get_unique_values(runs, target_variable_names)"
   ]
  },
  {
   "cell_type": "code",
   "execution_count": 121,
   "id": "b0ac8a6c",
   "metadata": {},
   "outputs": [
    {
     "name": "stdout",
     "output_type": "stream",
     "text": [
      "['DDB_PD_023_AMBR_1', 'DDB_PD_023_AMBR_5', 'DDB_PD_023_AMBR_6', 'DDB_PD_023_AMBR_2', 'DDB_PD_023_AMBR_4', 'DDB_PD_023_AMBR_3', 'DDB_PD_026_AMBR_11', 'DDB_PD_026_AMBR_12', 'DDB_PD_026_AMBR_5', 'DDB_PD_026_AMBR_6', 'DDB_PD_026_AMBR_7', 'DDB_PD_026_AMBR_8', 'DDB_PD_026_AMBR_10', 'DDB_PD_026_AMBR_9', 'DDB_PD_029_AMBR_9', 'DDB_PD_029_AMBR_11', 'DDB_PD_029_AMBR_10', 'DDB_PD_029_AMBR_12', 'DDB_PD_041_AMBR_1', 'DDB_PD_041_AMBR_2', 'DDB_PD_041_AMBR_4', 'DDB_PD_041_AMBR_3', 'DDB_PD_036_AMBR_18', 'DDB_PD_036_AMBR_23', 'DDB_PD_036_AMBR_17', 'DDB_PD_036_AMBR_22', 'DDB_PD_036_AMBR_21', 'DDB_PD_036_AMBR_19', 'DDB_PD_036_AMBR_15', 'DDB_PD_036_AMBR_13', 'DDB_PD_036_AMBR_14', 'DDB_PD_036_AMBR_20', 'DDB_PD_036_AMBR_24', 'DDB_PD_036_AMBR_16', 'DDB_PD_038_AMBR_7', 'DDB_PD_038_AMBR_11', 'DDB_PD_038_AMBR_12', 'DDB_PD_038_AMBR_5', 'DDB_PD_038_AMBR_6', 'DDB_PD_038_AMBR_9', 'DDB_PD_038_AMBR_10', 'DDB_PD_038_AMBR_8', 'DDB_PD_043_AMBR_9', 'DDB_PD_043_AMBR_10', 'DDB_PD_043_AMBR_12', 'DDB_PD_043_AMBR_11', 'DDB_PD_052_AMBR_13', 'DDB_PD_052_AMBR_12', 'DDB_PD_045_AMBR_18', 'DDB_PD_045_AMBR_13', 'DDB_PD_045_AMBR_12', 'DDB_PD_045_AMBR_16', 'DDB_PD_045_AMBR_17', 'DDB_PD_045_AMBR_7', 'DDB_PD_045_AMBR_5', 'DDB_PD_045_AMBR_14', 'DDB_PD_045_AMBR_20', 'DDB_PD_045_AMBR_6', 'DDB_PD_045_AMBR_8', 'DDB_PD_045_AMBR_11', 'DDB_PD_045_AMBR_21', 'DDB_PD_045_AMBR_19', 'DDB_PD_045_AMBR_2', 'DDB_PD_045_AMBR_15', 'DDB_PD_045_AMBR_23', 'DDB_PD_045_AMBR_22', 'DDB_PD_045_AMBR_1', 'DDB_PD_045_AMBR_24', 'DDB_PD_056_AMBR_9', 'DDB_PD_056_AMBR_10', 'DDB_PD_056_AMBR_12', 'DDB_PD_056_AMBR_11', 'DDB_PD_047_AMBR_8', 'DDB_PD_047_AMBR_5', 'DDB_PD_047_AMBR_6', 'DDB_PD_047_AMBR_7', 'DDB_PD_055_AMBR_14', 'DDB_PD_055_AMBR_15', 'DDB_PD_055_AMBR_13', 'DDB_PD_055_AMBR_12', 'DDB_PD_061_AMBR_4', 'DDB_PD_061_AMBR_2', 'DDB_PD_061_AMBR_1', 'DDB_PD_061_AMBR_3', 'DDB_PD_060_AMBR_7', 'DDB_PD_060_AMBR_9', 'DDB_PD_060_AMBR_8', 'DDB_PD_060_AMBR_6', 'DDB_PD_060_AMBR_11', 'DDB_PD_060_AMBR_10', 'DDB_PD_062_AMBR_11', 'DDB_PD_062_AMBR_12', 'DDB_PD_062_AMBR_13', 'DDB_PD_063_AMBR_4', 'DDB_PD_063_AMBR_1', 'DDB_PD_063_AMBR_3', 'DDB_PD_026_AMBR_11', 'DDB_PD_026_AMBR_12', 'DDB_PD_041_AMBR_1', 'DDB_PD_041_AMBR_2', 'DDB_PD_041_AMBR_3', 'DDB_PD_041_AMBR_4', 'DDB_PD_064_AMBR_22', 'DDB_PD_064_AMBR_24', 'DDB_PD_003_AMBR_21', 'DDB_PD_003_AMBR_22', 'DDB_PD_003_AMBR_20', 'DDB_PD_003_AMBR_23', 'DDB_PD_003_AMBR_24', 'DDB_PD_003_AMBR_14', 'DDB_PD_003_AMBR_19', 'DDB_PD_003_AMBR_9', 'DDB_PD_003_AMBR_13', 'DDB_PD_003_AMBR_11', 'DDB_PD_003_AMBR_10', 'DDB_PD_003_AMBR_15', 'DDB_PD_003_AMBR_12', 'DDB_PD_003_AMBR_16', 'DDB_PD_004_AMBR_4', 'DDB_PD_004_AMBR_7', 'DDB_PD_004_AMBR_2', 'DDB_PD_004_AMBR_1', 'DDB_PD_004_AMBR_9', 'DDB_PD_004_AMBR_5', 'DDB_PD_004_AMBR_6', 'DDB_PD_004_AMBR_3', 'DDB_PD_004_AMBR_8', 'DDB_PD_005_AMBR_4', 'DDB_PD_005_AMBR_7', 'DDB_PD_005_AMBR_2', 'DDB_PD_005_AMBR_1', 'DDB_PD_005_AMBR_5', 'DDB_PD_005_AMBR_6', 'DDB_PD_005_AMBR_3', 'DDB_PD_005_AMBR_8', 'DDB_PD_006_AMBR_4', 'DDB_PD_006_AMBR_7', 'DDB_PD_006_AMBR_2', 'DDB_PD_006_AMBR_1', 'DDB_PD_006_AMBR_9', 'DDB_PD_006_AMBR_6', 'DDB_PD_006_AMBR_5', 'DDB_PD_006_AMBR_8', 'DDB_PD_009_AMBR_4', 'DDB_PD_009_AMBR_7', 'DDB_PD_009_AMBR_2', 'DDB_PD_009_AMBR_1', 'DDB_PD_009_AMBR_9', 'DDB_PD_009_AMBR_6', 'DDB_PD_009_AMBR_5', 'DDB_PD_009_AMBR_8', 'DDB_PD_009_AMBR_11', 'DDB_PD_009_AMBR_10', 'DDB_PD_014_AMBR_21', 'DDB_PD_014_AMBR_22', 'DDB_PD_014_AMBR_20', 'DDB_PD_014_AMBR_14', 'DDB_PD_014_AMBR_19', 'DDB_PD_014_AMBR_17', 'DDB_PD_014_AMBR_13', 'DDB_PD_014_AMBR_15', 'DDB_PD_014_AMBR_16', 'DDB_PD_014_AMBR_18', 'DDB_PD_016_AMBR_7', 'DDB_PD_016_AMBR_9', 'DDB_PD_016_AMBR_6', 'DDB_PD_016_AMBR_8', 'DDB_PD_016_AMBR_5', 'DDB_PD_016_AMBR_11', 'DDB_PD_016_AMBR_10', 'DDB_PD_016_AMBR_12', 'DDB_PD_012_AMBR_7', 'DDB_PD_012_AMBR_9', 'DDB_PD_012_AMBR_6', 'DDB_PD_012_AMBR_8', 'DDB_PD_012_AMBR_5', 'DDB_PD_012_AMBR_11', 'DDB_PD_012_AMBR_10', 'DDB_PD_012_AMBR_12', 'DDB_PD_066_AMBR_21', 'DDB_PD_066_AMBR_22', 'DDB_PD_066_AMBR_20', 'DDB_PD_066_AMBR_23', 'DDB_PD_066_AMBR_24', 'DDB_PD_066_AMBR_14', 'DDB_PD_066_AMBR_19', 'DDB_PD_066_AMBR_17', 'DDB_PD_066_AMBR_13', 'DDB_PD_066_AMBR_15', 'DDB_PD_066_AMBR_16', 'DDB_PD_066_AMBR_18', 'DDB_PD_001_AMBR_21', 'DDB_PD_001_AMBR_20', 'DDB_PD_001_AMBR_23', 'DDB_PD_001_AMBR_24', 'DDB_PD_001_AMBR_19', 'DDB_PD_001_AMBR_22', 'DDB_PD_035_AMBR_4', 'DDB_PD_035_AMBR_2', 'DDB_PD_035_AMBR_1', 'DDB_PD_035_AMBR_5', 'DDB_PD_035_AMBR_6', 'DDB_PD_035_AMBR_3', 'DDB_PD_037_AMBR_9', 'DDB_PD_037_AMBR_10', 'DDB_PD_037_AMBR_12', 'DDB_PD_037_AMBR_11', 'DDB_PD_065_AMBR_21', 'DDB_PD_065_AMBR_22', 'DDB_PD_065_AMBR_20', 'DDB_PD_065_AMBR_23', 'DDB_PD_065_AMBR_24', 'DDB_PD_065_AMBR_14', 'DDB_PD_065_AMBR_19', 'DDB_PD_065_AMBR_17', 'DDB_PD_065_AMBR_13', 'DDB_PD_065_AMBR_15', 'DDB_PD_065_AMBR_16', 'DDB_PD_065_AMBR_18', 'DDB_PD_072_AMBR_7', 'DDB_PD_072_AMBR_6', 'DDB_PD_072_AMBR_8', 'DDB_PD_072_AMBR_5', 'DDB_PD_074_AMBR_11', 'DDB_PD_074_AMBR_12', 'DDB_PD_054_AMBR_7', 'DDB_PD_054_AMBR_9', 'DDB_PD_054_AMBR_6', 'DDB_PD_054_AMBR_11', 'DDB_PD_054_AMBR_10', 'DDB_PD_058_AMBR_7', 'DDB_PD_058_AMBR_9', 'DDB_PD_058_AMBR_6', 'DDB_PD_058_AMBR_8', 'DDB_PD_058_AMBR_5', 'DDB_PD_058_AMBR_11', 'DDB_PD_058_AMBR_10', 'DDB_PD_067_AMBR_21', 'DDB_PD_067_AMBR_22', 'DDB_PD_067_AMBR_20', 'DDB_PD_067_AMBR_14', 'DDB_PD_067_AMBR_19', 'DDB_PD_067_AMBR_17', 'DDB_PD_067_AMBR_13', 'DDB_PD_067_AMBR_15', 'DDB_PD_067_AMBR_16', 'DDB_PD_067_AMBR_18', 'DDB_PD_073_AMBR_2', 'DDB_PD_073_AMBR_4', 'DDB_PD_073_AMBR_1', 'DDB_PD_073_AMBR_3', 'DDB_PD_002_AMBR_8', 'DDB_PD_002_AMBR_2', 'DDB_PD_002_AMBR_1', 'DDB_PD_002_AMBR_7', 'DDB_PD_002_AMBR_4', 'DDB_PD_002_AMBR_5', 'DDB_PD_002_AMBR_6', 'DDB_PD_002_AMBR_3', 'DDB_PD_002_AMBR_9', 'DDB_PD_086_AMBR_3', 'DDB_PD_086_AMBR_2', 'DDB_PD_086_AMBR_8', 'DDB_PD_086_AMBR_5', 'DDB_PD_086_AMBR_1', 'DDB_PD_086_AMBR_7', 'DDB_PD_087_AMBR_3', 'DDB_PD_087_AMBR_2', 'DDB_PD_087_AMBR_8', 'DDB_PD_087_AMBR_5', 'DDB_PD_087_AMBR_1', 'DDB_PD_087_AMBR_6', 'DDB_PD_087_AMBR_7', 'DDB_PD_087_AMBR_4', 'DDB_PD_090_AMBR_20', 'DDB_PD_090_AMBR_21', 'DDB_PD_090_AMBR_13', 'DDB_PD_090_AMBR_16', 'DDB_PD_090_AMBR_19', 'DDB_PD_090_AMBR_17', 'DDB_PD_090_AMBR_23', 'DDB_PD_090_AMBR_14', 'DDB_PD_089_AMBR_3', 'DDB_PD_089_AMBR_10', 'DDB_PD_089_AMBR_8', 'DDB_PD_089_AMBR_9', 'DDB_PD_089_AMBR_5', 'DDB_PD_089_AMBR_11', 'DDB_PD_089_AMBR_6', 'DDB_PD_089_AMBR_4', 'DDB_PD_099_AMBR_12', 'DDB_PD_099_AMBR_14', 'DDB_PD_099_AMBR_7', 'DDB_PD_099_AMBR_8', 'DDB_PD_099_AMBR_11', 'DDB_PD_099_AMBR_13', 'DDB_PD_099_AMBR_9', 'DDB_PD_104_AMBR_12', 'DDB_PD_104_AMBR_7', 'DDB_PD_104_AMBR_8', 'DDB_PD_104_AMBR_11', 'DDB_PD_104_AMBR_10', 'DDB_PD_104_AMBR_9', 'DDB_PD_101_AMBR_5', 'DDB_PD_101_AMBR_12', 'DDB_PD_101_AMBR_14', 'DDB_PD_101_AMBR_15', 'DDB_PD_101_AMBR_7', 'DDB_PD_101_AMBR_6', 'DDB_PD_101_AMBR_16', 'DDB_PD_101_AMBR_8', 'DDB_PD_101_AMBR_11', 'DDB_PD_101_AMBR_13', 'DDB_PD_101_AMBR_10', 'DDB_PD_101_AMBR_9', 'DDB_PD_106_AMBR_10', 'DDB_PD_106_AMBR_7', 'DDB_PD_106_AMBR_9', 'DDB_PD_106_AMBR_8', 'DDB_PD_100_AMBR_12', 'DDB_PD_100_AMBR_14', 'DDB_PD_100_AMBR_11', 'DDB_PD_100_AMBR_13', 'DDB_PD_100_AMBR_10', 'DDB_PD_100_AMBR_9', 'DDB_PD_103_AMBR_20', 'DDB_PD_103_AMBR_19', 'DDB_PD_103_AMBR_17', 'DDB_PD_103_AMBR_18', 'DDB_PD_088_AMBR_11', 'DDB_PD_088_AMBR_10', 'DDB_PD_088_AMBR_9', 'DDB_PD_088_AMBR_12', 'DDB_PD_107_AMBR_13', 'DDB_PD_107_AMBR_5', 'DDB_PD_107_AMBR_7', 'DDB_PD_107_AMBR_12', 'DDB_PD_107_AMBR_8', 'DDB_PD_107_AMBR_9', 'DDB_PD_107_AMBR_2', 'DDB_PD_107_AMBR_11', 'DDB_PD_107_AMBR_6', 'DDB_PD_107_AMBR_10', 'DDB_PD_107_AMBR_1', 'DDB_PD_107_AMBR_3', 'DDB_PD_111_AMBR_8', 'DDB_PD_111_AMBR_9', 'DDB_PD_111_AMBR_11', 'DDB_PD_111_AMBR_7', 'DDB_PD_111_AMBR_12', 'DDB_PD_111_AMBR_10', 'DDB_PD_112_AMBR_22', 'DDB_PD_112_AMBR_24', 'DDB_PD_112_AMBR_20', 'DDB_PD_112_AMBR_23', 'DDB_PD_112_AMBR_19', 'DDB_PD_112_AMBR_21', 'DDB_PD_110_AMBR_8', 'DDB_PD_110_AMBR_9', 'DDB_PD_110_AMBR_5', 'DDB_PD_110_AMBR_7', 'DDB_PD_110_AMBR_6', 'DDB_PD_110_AMBR_10', 'DDB_PD_114_AMBR_1', 'DDB_PD_114_AMBR_8', 'DDB_PD_114_AMBR_3', 'DDB_PD_114_AMBR_5', 'DDB_PD_114_AMBR_4', 'DDB_PD_114_AMBR_7', 'DDB_PD_114_AMBR_6', 'DDB_PD_114_AMBR_2', 'DDB_PD_101_AMBR_10', 'DDB_PD_101_AMBR_11', 'DDB_PD_101_AMBR_12', 'DDB_PD_101_AMBR_13', 'DDB_PD_101_AMBR_14', 'DDB_PD_101_AMBR_15', 'DDB_PD_101_AMBR_16', 'DDB_PD_101_AMBR_5', 'DDB_PD_101_AMBR_6', 'DDB_PD_101_AMBR_7', 'DDB_PD_101_AMBR_8', 'DDB_PD_101_AMBR_9', 'DDB_PD_103_AMBR_17', 'DDB_PD_103_AMBR_18', 'DDB_PD_113_AMBR_8', 'DDB_PD_115_AMBR_16', 'DDB_PD_115_AMBR_19', 'DDB_PD_113_AMBR_11', 'DDB_PD_115_AMBR_21', 'DDB_PD_113_AMBR_12', 'DDB_PD_115_AMBR_14', 'DDB_PD_113_AMBR_5', 'DDB_PD_115_AMBR_17', 'DDB_PD_113_AMBR_6', 'DDB_PD_115_AMBR_18', 'DDB_PD_113_AMBR_10', 'DDB_PD_115_AMBR_20', 'DDB_PD_113_AMBR_9', 'DDB_PD_115_AMBR_11', 'DDB_PD_115_AMBR_22', 'DDB_PD_113_AMBR_7', 'DDB_PD_115_AMBR_13', 'DDB_PD_115_AMBR_15', 'DDB_PD_115_AMBR_24', 'DDB_PD_116_AMBR_16', 'DDB_PD_116_AMBR_15', 'DDB_PD_116_AMBR_19', 'DDB_PD_116_AMBR_18', 'DDB_PD_116_AMBR_20', 'DDB_PD_116_AMBR_11', 'DDB_PD_116_AMBR_22', 'DDB_PD_116_AMBR_14', 'DDB_PD_116_AMBR_13', 'DDB_PD_116_AMBR_17', 'DDB_PD_116_AMBR_21', 'DDB_PD_116_AMBR_12', 'DDB_PD_117_AMBR_16', 'DDB_PD_117_AMBR_6', 'DDB_PD_117_AMBR_15', 'DDB_PD_117_AMBR_5', 'DDB_PD_117_AMBR_9', 'DDB_PD_117_AMBR_10', 'DDB_PD_117_AMBR_8', 'DDB_PD_117_AMBR_7', 'DDB_PD_117_AMBR_11', 'DDB_PD_117_AMBR_14', 'DDB_PD_117_AMBR_13', 'DDB_PD_117_AMBR_12', 'DDB_PD_119_AMBR_3', 'DDB_PD_119_AMBR_2', 'DDB_PD_120_AMBR_3', 'DDB_PD_120_AMBR_4', 'DDB_PD_120_AMBR_1', 'DDB_PD_120_AMBR_2', 'DDB_PD_125_AMBR_3', 'DDB_PD_125_AMBR_2', 'DDB_PD_125_AMBR_1', 'DDB_PD_125_AMBR_4', 'DDB_PD_127_AMBR_2', 'DDB_PD_127_AMBR_1', 'DDB_PD_128_AMBR_2', 'DDB_PD_128_AMBR_1', 'DDB_PD_121_AMBR_9', 'DDB_PD_121_AMBR_14', 'DDB_PD_121_AMBR_7', 'DDB_PD_121_AMBR_10', 'DDB_PD_121_AMBR_12', 'DDB_PD_121_AMBR_15', 'DDB_PD_121_AMBR_13', 'DDB_PD_121_AMBR_11', 'DDB_PD_121_AMBR_5', 'DDB_PD_121_AMBR_6', 'DDB_PD_121_AMBR_8', 'DDB_PD_121_AMBR_16', 'DDB_PD_122_AMBR_9', 'DDB_PD_122_AMBR_14', 'DDB_PD_122_AMBR_7', 'DDB_PD_122_AMBR_10', 'DDB_PD_122_AMBR_12', 'DDB_PD_122_AMBR_15', 'DDB_PD_122_AMBR_13', 'DDB_PD_122_AMBR_11', 'DDB_PD_122_AMBR_5', 'DDB_PD_122_AMBR_6', 'DDB_PD_122_AMBR_8', 'DDB_PD_122_AMBR_16', 'DDB_PD_123_AMBR_9', 'DDB_PD_123_AMBR_14', 'DDB_PD_123_AMBR_7', 'DDB_PD_123_AMBR_10', 'DDB_PD_123_AMBR_12', 'DDB_PD_123_AMBR_15', 'DDB_PD_123_AMBR_13', 'DDB_PD_123_AMBR_11', 'DDB_PD_123_AMBR_5', 'DDB_PD_123_AMBR_6', 'DDB_PD_123_AMBR_8', 'DDB_PD_123_AMBR_16', 'DDB_PD_126_AMBR_9', 'DDB_PD_126_AMBR_14', 'DDB_PD_126_AMBR_7', 'DDB_PD_126_AMBR_10', 'DDB_PD_126_AMBR_12', 'DDB_PD_126_AMBR_15', 'DDB_PD_126_AMBR_13', 'DDB_PD_126_AMBR_11', 'DDB_PD_126_AMBR_5', 'DDB_PD_126_AMBR_6', 'DDB_PD_126_AMBR_8', 'DDB_PD_126_AMBR_16', 'DDB_PD_134_AMBR_1', 'DDB_PD_134_AMBR_2', 'DDB_PD_136_AMBR_9', 'DDB_PD_136_AMBR_5', 'DDB_PD_136_AMBR_7', 'DDB_PD_136_AMBR_11', 'DDB_PD_136_AMBR_8', 'DDB_PD_136_AMBR_6', 'DDB_PD_136_AMBR_10', 'DDB_PD_136_AMBR_12', 'DDB_PD_137_AMBR_4', 'DDB_PD_137_AMBR_3', 'DDB_PD_137_AMBR_1', 'DDB_PD_137_AMBR_2', 'DDB_PD_138_AMBR_5', 'DDB_PD_138_AMBR_2', 'DDB_PD_138_AMBR_1', 'DDB_PD_138_AMBR_6', 'DDB_PD_138_AMBR_3', 'DDB_PD_138_AMBR_4', 'DDB_PD_139_AMBR_9', 'DDB_PD_139_AMBR_7', 'DDB_PD_139_AMBR_11', 'DDB_PD_139_AMBR_8', 'DDB_PD_139_AMBR_6', 'DDB_PD_139_AMBR_10']\n",
      "['DDB_LHD_FM_03', 'DDB_BM_014', 'DDB_BM_016', 'DDB_BM_002', 'DDB_BM_007', 'DDB_SM_003', 'DDB_SM_001', 'DDB_SAHD_BM_01', 'DDB_FM_006', 'DDB_BM_006', 'DDB_BM_005', 'DDB_BM_001_Kan', 'DDB_FM_002', 'DDB_FM_003', 'DDB_BM_015', 'DDB_BM_003', 'DDB_LHD_BM_01', 'DDB_FM_016', 'DDB_FM_015', 'DDB_FM_001_Kan', 'DDB_FM_005', 'DDB_LHD_FM_01', 'DDB_LHD_FM_04', 'DDB_LHD_FM_02', 'DDB_LHD_BM_02', 'DDB_LHD_BM_04', 'DDB_BM_008', 'DDB_BM_001', 'DDB_LHD_BM_03', 'DDB_BM_009', 'DDB_FM_007', 'DDB_SAHD_BM_03']\n",
      "['DDB_PD_056_AMBR', 'DDB_PD_052_AMBR', 'DDB_PD_128_AMBR', 'DDB_PD_127_AMBR', 'DDB_PD_137_AMBR', 'DDB_PD_063_AMBR', 'DDB_PD_062_AMBR', 'DDB_PD_099_AMBR', 'DDB_PD_072_AMBR', 'DDB_PD_054_AMBR', 'DDB_PD_138_AMBR', 'DDB_PD_119_AMBR', 'DDB_PD_061_AMBR', 'DDB_PD_003_AMBR', 'DDB_PD_115_AMBR', 'DDB_PD_107_AMBR', 'DDB_PD_064_AMBR', 'DDB_PD_001_AMBR', 'DDB_PD_055_AMBR', 'DDB_PD_073_AMBR', 'DDB_PD_111_AMBR', 'DDB_PD_136_AMBR', 'DDB_PD_060_AMBR', 'DDB_PD_036_AMBR', 'DDB_PD_002_AMBR', 'DDB_PD_101_AMBR', 'DDB_PD_012_AMBR', 'DDB_PD_058_AMBR', 'DDB_PD_045_AMBR', 'DDB_PD_065_AMBR', 'DDB_PD_116_AMBR', 'DDB_PD_122_AMBR', 'DDB_PD_041_AMBR', 'DDB_PD_009_AMBR', 'DDB_PD_088_AMBR', 'DDB_PD_023_AMBR', 'DDB_PD_125_AMBR', 'DDB_PD_026_AMBR', 'DDB_PD_121_AMBR', 'DDB_PD_123_AMBR', 'DDB_PD_066_AMBR', 'DDB_PD_117_AMBR', 'DDB_PD_134_AMBR', 'DDB_PD_004_AMBR', 'DDB_PD_103_AMBR', 'DDB_PD_074_AMBR', 'DDB_PD_047_AMBR', 'DDB_PD_016_AMBR', 'DDB_PD_086_AMBR', 'DDB_PD_005_AMBR', 'DDB_PD_113_AMBR', 'DDB_PD_106_AMBR', 'DDB_PD_087_AMBR', 'DDB_PD_100_AMBR', 'DDB_PD_110_AMBR', 'DDB_PD_114_AMBR', 'DDB_PD_120_AMBR', 'DDB_PD_037_AMBR', 'DDB_PD_104_AMBR', 'DDB_PD_014_AMBR', 'DDB_PD_089_AMBR', 'DDB_PD_029_AMBR', 'DDB_PD_067_AMBR', 'DDB_PD_043_AMBR', 'DDB_PD_035_AMBR', 'DDB_PD_090_AMBR', 'DDB_PD_112_AMBR', 'DDB_PD_006_AMBR', 'DDB_PD_126_AMBR', 'DDB_PD_139_AMBR', 'DDB_PD_038_AMBR']\n"
     ]
    }
   ],
   "source": [
    "print(get_run_names(runs))\n",
    "print(get_medium_names(runs))\n",
    "print(get_experiment_names(runs))"
   ]
  },
  {
   "cell_type": "code",
   "execution_count": 122,
   "id": "2287e994",
   "metadata": {},
   "outputs": [
    {
     "name": "stdout",
     "output_type": "stream",
     "text": [
      "\n",
      "\n",
      "    Total project experiments: 71\n",
      "    Total project runs: 517\n",
      "    Total of 32 different Base, seed and feed mediums.\n",
      "      \n"
     ]
    }
   ],
   "source": [
    "print(f\"\"\"\n",
    "\n",
    "    Total project experiments: {len(get_experiment_names(runs))}\n",
    "    Total project runs: {len(get_run_names(runs))}\n",
    "    Total of {len(get_medium_names(runs))} different Base, seed and feed mediums.\n",
    "      \"\"\")\n",
    "\n",
    "\n"
   ]
  }
 ],
 "metadata": {
  "kernelspec": {
   "display_name": "fermentdb_env",
   "language": "python",
   "name": "python3"
  },
  "language_info": {
   "codemirror_mode": {
    "name": "ipython",
    "version": 3
   },
   "file_extension": ".py",
   "mimetype": "text/x-python",
   "name": "python",
   "nbconvert_exporter": "python",
   "pygments_lexer": "ipython3",
   "version": "3.10.14"
  }
 },
 "nbformat": 4,
 "nbformat_minor": 5
}
