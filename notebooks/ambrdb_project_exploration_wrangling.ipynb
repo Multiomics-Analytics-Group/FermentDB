{
 "cells": [
  {
   "cell_type": "code",
   "execution_count": 13,
   "id": "715d21d9-a12b-41a7-82ea-fa209c340638",
   "metadata": {
    "tags": []
   },
   "outputs": [],
   "source": [
    "import os\n",
    "import json"
   ]
  },
  {
   "cell_type": "code",
   "execution_count": 14,
   "id": "c2c3e5f9-a0c9-4eb5-b069-d1f7e2358459",
   "metadata": {
    "tags": []
   },
   "outputs": [],
   "source": [
    "# set parameters and paths\n",
    "data_dir = \"../data\"\n",
    "out_dir = \"../outputs\""
   ]
  },
  {
   "cell_type": "code",
   "execution_count": 15,
   "id": "55df3a32",
   "metadata": {},
   "outputs": [],
   "source": [
    "db_path = os.path.join(data_dir, \"CrashMS_high resolution HD experiment_synth.json\")"
   ]
  },
  {
   "cell_type": "code",
   "execution_count": 16,
   "id": "07d3b258-4153-4372-8738-e402d407637d",
   "metadata": {
    "tags": []
   },
   "outputs": [],
   "source": [
    "with open(db_path, 'r') as dbfile:\n",
    "    db = json.load(dbfile)"
   ]
  },
  {
   "cell_type": "code",
   "execution_count": 17,
   "id": "96cd7b3d-f5c3-4f34-a659-ab3fc268beb6",
   "metadata": {
    "tags": []
   },
   "outputs": [
    {
     "data": {
      "text/plain": [
       "dict_keys(['modification_time', 'result_notes', 'tags', 'departments', 'event_names', 'start', 'key_variable', 'editable', 'sites', 'creation_time', 'end', 'workflow', 'created_by', 'manager', 'trending_settings', 'editable_plots', 'country', 'unit_operations', 'name', 'description', 'deletable', 'type', 'batch_phase_names', 'project', 'progress', 'id', 'status', 'batches', 'variables'])"
      ]
     },
     "execution_count": 17,
     "metadata": {},
     "output_type": "execute_result"
    }
   ],
   "source": [
    "db.keys()"
   ]
  },
  {
   "cell_type": "code",
   "execution_count": 18,
   "id": "63934ce8",
   "metadata": {},
   "outputs": [
    {
     "data": {
      "text/plain": [
       "29"
      ]
     },
     "execution_count": 18,
     "metadata": {},
     "output_type": "execute_result"
    }
   ],
   "source": [
    "len(db.keys())"
   ]
  },
  {
   "cell_type": "code",
   "execution_count": 19,
   "id": "74313116-bd24-4d21-8d75-57d34be7f4f2",
   "metadata": {
    "tags": []
   },
   "outputs": [
    {
     "data": {
      "text/plain": [
       "24"
      ]
     },
     "execution_count": 19,
     "metadata": {},
     "output_type": "execute_result"
    }
   ],
   "source": [
    "len(db[\"batches\"])"
   ]
  },
  {
   "cell_type": "code",
   "execution_count": 20,
   "id": "e336f9ef-8fc0-4df8-b35b-59b844955183",
   "metadata": {
    "tags": []
   },
   "outputs": [],
   "source": [
    "batch = db[\"batches\"][0]"
   ]
  },
  {
   "cell_type": "code",
   "execution_count": 21,
   "id": "0b741de1-bd8d-49a2-9b21-429f21ff90c0",
   "metadata": {
    "tags": []
   },
   "outputs": [
    {
     "data": {
      "text/plain": [
       "259"
      ]
     },
     "execution_count": 21,
     "metadata": {},
     "output_type": "execute_result"
    }
   ],
   "source": [
    "len(batch['variables'])"
   ]
  },
  {
   "cell_type": "code",
   "execution_count": 22,
   "id": "b082c178-591e-48d4-9cc7-a0bcaf1ab180",
   "metadata": {
    "tags": []
   },
   "outputs": [],
   "source": [
    "variables = batch['variables']"
   ]
  },
  {
   "cell_type": "code",
   "execution_count": 23,
   "id": "05edeacf",
   "metadata": {},
   "outputs": [
    {
     "name": "stdout",
     "output_type": "stream",
     "text": [
      "Accumulated sample volume -- mL\n",
      "Acetic acid formation rate -- g/h\n",
      "Acetic acid formation rate molar -- mol/h\n",
      "Acetic acid formed -- g\n",
      "Acetic acid formed c-molar -- cmol\n",
      "Acetic acid formed molar -- mol\n",
      "Acetic acid lost in sample -- g\n",
      "Acetic acid specific formation rate -- g/g(DW)*h\n",
      "Acetic acid specific formation rate molar -- mol/cmol(X)*h\n",
      "Acetic acid yield (S) -- g/g\n",
      "Acetic acid yield (X) -- g/g(DW)\n",
      "Acetic acid yield c-molar (S) -- c-mol/c-mol(S)\n",
      "Acetic acid yield c-molar (X) -- c-mol/c-mol(X)\n",
      "Acetic acid yield molar (S) -- mol/mol(S)\n",
      "Acetic acid yield molar (X) -- mol/c-mol(X)\n",
      "Acid volume -- L\n",
      "Aeration Gas Type -- dimensionless\n",
      "Air flow -- lpm\n",
      "Base Medium -- dimensionless\n",
      "Base rate -- L/h\n",
      "Base volume -- L\n",
      "Biomass amount -- g\n",
      "Biomass amount molar -- mol\n",
      "Biomass concentration -- g/L\n",
      "Biomass formation rate -- g/h\n",
      "Biomass formation rate molar -- c-mol/h\n",
      "Biomass formed -- g\n",
      "Biomass formed c-molar -- cmol\n",
      "Biomass formed molar -- mol\n",
      "Biomass lost in sample -- g\n",
      "Biomass specific growth rate µ -- 1/h\n",
      "Biomass yield (S) -- g/g\n",
      "Biomass yield (S)_mean in Feed -- g/g\n",
      "Biomass yield c-molar (S) -- c-mol/c-mol(S)\n",
      "Biomass yield molar (S) -- c-mol/mol(S)\n",
      "C balance -- %\n",
      "C balance (using c-mols) -- dimensionless\n",
      "CO2 Q -- L/h\n",
      "CO2 accumulated -- dimensionless\n",
      "CO2 accumulated downscaled -- mol\n",
      "CO2 decimal -- dimensionless\n",
      "CO2 evolution rate -- mol/h\n",
      "CO2 molar -- mol/h\n",
      "CO2 partial integration -- dimensionless\n",
      "CO2 specific evolution rate -- mol/c-mol(X)*h\n",
      "CO2 yield (S) -- mol/mol(S)\n",
      "CO2 yield (X) -- mol/c-mol(X)\n",
      "CO2 yield c-molar (S) -- mol/c-mol(S)\n",
      "CTR -- mol/h\n",
      "Citric acid formation rate -- g/h\n",
      "Citric acid formation rate molar -- mol/h\n",
      "Citric acid formed -- g\n",
      "Citric acid formed c-molar -- cmol\n",
      "Citric acid formed molar -- mol\n",
      "Citric acid lost in sample -- g\n",
      "Citric acid specific formation rate -- g/g(DW)*h\n",
      "Citric acid specific formation rate molar -- mol/cmol(X)*h\n",
      "Citric acid yield (S) -- g/g\n",
      "Citric acid yield (X) -- g/g(DW)\n",
      "Citric acid yield c-molar (S) -- c-mol/c-mol(S)\n",
      "Citric acid yield c-molar (X) -- c-mol/c-mol(X)\n",
      "Citric acid yield molar (S) -- mol/mol(S)\n",
      "Citric acid yield molar (X) -- mol/c-mol(X)\n",
      "Co -- µg/L\n",
      "Consumed O2 -- mol\n",
      "Container ID (calculated) -- dimensionless\n",
      "Container Type -- dimensionless\n",
      "Cu -- µg/L\n",
      "Culture Type -- dimensionless\n",
      "Culture Volume Unit -- dimensionless\n",
      "D -- 1/h\n",
      "D-glucose -- g/L\n",
      "D-glucose consumed -- g\n",
      "D-glucose consumed c-molar -- cmol\n",
      "D-glucose consumed molar -- mol\n",
      "D-glucose lost in sample -- g\n",
      "D-glucose specific uptake rate -- g/g(DW)*h\n",
      "D-glucose specific uptake rate molar -- mol/cmol(X)*h\n",
      "D-glucose uptake rate -- g/h\n",
      "D-glucose uptake rate molar -- mol/h\n",
      "D-glucose yield (X) -- g/g(DW)\n",
      "D-glucose yield c-molar (X) -- c-mol/c-mol(X)\n",
      "D-glucose yield molar (X) -- mol/c-mol(X)\n",
      "DO -- %\n",
      "DO Control Cascade Level 1 -- dimensionless\n",
      "DO Control Cascade Level 2 -- dimensionless\n",
      "DO Control Cascade Level 3 -- dimensionless\n",
      "DO Control Setpoint (%) -- dimensionless\n",
      "DoR (from yields) -- dimensionless\n",
      "DoR balance -- %\n",
      "Elemental C balance with reference to substrate -- dimensionless\n",
      "Experiment -- dimensionless\n",
      "Fe -- µg/L\n",
      "Feed #1 Profile -- dimensionless\n",
      "Feed 1 rate gravimetric -- kg/h\n",
      "Feed 1 rate volumetric -- L/h\n",
      "Feed 1 volume -- L\n",
      "Feed Medium #1 -- dimensionless\n",
      "Feed amount -- kg\n",
      "Formed CO2 -- mol\n",
      "Formic acid formation rate -- g/h\n",
      "Formic acid formation rate molar -- mol/h\n",
      "Formic acid formed -- g\n",
      "Formic acid formed c-molar -- cmol\n",
      "Formic acid formed molar -- mol\n",
      "Formic acid lost in sample -- g\n",
      "Formic acid specific formation rate -- g/g(DW)*h\n",
      "Formic acid specific formation rate molar -- mol/cmol(X)*h\n",
      "Formic acid yield (S) -- g/g\n",
      "Formic acid yield (X) -- g/g(DW)\n",
      "Formic acid yield c-molar (S) -- c-mol/c-mol(S)\n",
      "Formic acid yield c-molar (X) -- c-mol/c-mol(X)\n",
      "Formic acid yield molar (S) -- mol/mol(S)\n",
      "Formic acid yield molar (X) -- mol/c-mol(X)\n",
      "Initial Culture VolumeNone -- dimensionless\n",
      "Inlet air CO2 -- %\n",
      "Inlet air O2 -- %\n",
      "K -- mg/L\n",
      "Lactate formation rate -- g/h\n",
      "Lactate formation rate molar -- mol/h\n",
      "Lactate formed -- g\n",
      "Lactate formed c-molar -- cmol\n",
      "Lactate formed molar -- mol\n",
      "Lactate lost in sample -- g\n",
      "Lactate specific formation rate -- g/g(DW)*h\n",
      "Lactate specific formation rate molar -- mol/cmol(X)*h\n",
      "Lactate yield (S) -- g/g\n",
      "Lactate yield (X) -- g/g(DW)\n",
      "Lactate yield c-molar (S) -- c-mol/c-mol(S)\n",
      "Lactate yield c-molar (X) -- c-mol/c-mol(X)\n",
      "Lactate yield molar (S) -- mol/mol(S)\n",
      "Lactate yield molar (X) -- mol/c-mol(X)\n",
      "Liquid volume -- L\n",
      "Liquid volume (without corrected samples) -- L\n",
      "Liquid volume downscaled -- L\n",
      "Maximum Aeration (slpm) -- dimensionless\n",
      "Maximum Stirring or Shaking Speed (rpm) -- dimensionless\n",
      "Melatonin formation rate -- g/h\n",
      "Melatonin formation rate molar -- mol/h\n",
      "Melatonin formed -- g\n",
      "Melatonin formed c-molar -- cmol\n",
      "Melatonin formed molar -- mol\n",
      "Melatonin lost in sample -- g\n",
      "Melatonin specific formation rate -- g/g(DW)*h\n",
      "Melatonin specific formation rate molar -- mol/cmol(X)*h\n",
      "Melatonin yield (S) -- g/g\n",
      "Melatonin yield (X) -- g/g(DW)\n",
      "Melatonin yield c-molar (S) -- c-mol/c-mol(S)\n",
      "Melatonin yield c-molar (X) -- c-mol/c-mol(X)\n",
      "Melatonin yield molar (S) -- mol/mol(S)\n",
      "Melatonin yield molar (X) -- mol/c-mol(X)\n",
      "Mg  -- mg/L\n",
      "Minimum Aeration (slpm) -- dimensionless\n",
      "Minimum Stirring or Shaking Speed (rpm) -- dimensionless\n",
      "Mn -- µg/L\n",
      "Mo  -- µg/L\n",
      "Na -- mg/L\n",
      "O2 Q -- L/h\n",
      "O2 accumulated -- dimensionless\n",
      "O2 accumulated downscaled -- mol\n",
      "O2 decimal -- dimensionless\n",
      "O2 molar -- mol/h\n",
      "O2 partial integration -- dimensionless\n",
      "O2 specific uptake rate -- mol/c-mol(X)*h\n",
      "O2 uptake rate -- mol/h\n",
      "O2 yield (S) -- mol/mol(S)\n",
      "O2 yield (S)_mean in Feed -- mol/mol(S)\n",
      "O2 yield (X) -- mol/c-mol(X)\n",
      "O2 yield (X)_mean in Feed -- mol/c-mol(X)\n",
      "O2 yield c-molar (S) -- mol/c-mol(S)\n",
      "O2_corrected -- %\n",
      "OD -- dimensionless\n",
      "OTR -- mol/h\n",
      "OTR volumetric -- mol/L/h\n",
      "Offgas CO2 -- %\n",
      "Offgas O2 -- %\n",
      "Oxygen flow -- lpm\n",
      "Pressure -- bar\n",
      "Pyruvic acid formation rate -- g/h\n",
      "Pyruvic acid formation rate molar -- mol/h\n",
      "Pyruvic acid formed -- g\n",
      "Pyruvic acid formed c-molar -- cmol\n",
      "Pyruvic acid formed molar -- mol\n",
      "Pyruvic acid lost in sample -- g\n",
      "Pyruvic acid specific formation rate -- g/g(DW)*h\n",
      "Pyruvic acid specific formation rate molar -- mol/cmol(X)*h\n",
      "Pyruvic acid yield (S) -- g/g\n",
      "Pyruvic acid yield (X) -- g/g(DW)\n",
      "Pyruvic acid yield c-molar (S) -- c-mol/c-mol(S)\n",
      "Pyruvic acid yield c-molar (X) -- c-mol/c-mol(X)\n",
      "Pyruvic acid yield molar (S) -- mol/mol(S)\n",
      "Pyruvic acid yield molar (X) -- mol/c-mol(X)\n",
      "RQ -- dimensionless\n",
      "Reactor/Plate/Flask Number -- dimensionless\n",
      "Reflectance -- dimensionless\n",
      "Replicate # -- dimensionless\n",
      "Residual Acetic acid amount -- g\n",
      "Residual Citric acid amount -- g\n",
      "Residual D-glucose amount -- g\n",
      "Residual Formic acid amount -- g\n",
      "Residual Lactate amount -- g\n",
      "Residual Melatonin amount -- g\n",
      "Residual Pyruvic acid amount -- g\n",
      "Residual Succinic acid amount -- g\n",
      "Residual Tryptophan amount -- g\n",
      "S -- mg/L\n",
      "Sample ID -- dimensionless\n",
      "Sample mass -- g\n",
      "Sample volume -- mL\n",
      "Seed -- dimensionless\n",
      "Stirrer speed -- rpm\n",
      "Strain Batch -- dimensionless\n",
      "Succinic acid formation rate -- g/h\n",
      "Succinic acid formation rate molar -- mol/h\n",
      "Succinic acid formed -- g\n",
      "Succinic acid formed c-molar -- cmol\n",
      "Succinic acid formed molar -- mol\n",
      "Succinic acid lost in sample -- g\n",
      "Succinic acid specific formation rate -- g/g(DW)*h\n",
      "Succinic acid specific formation rate molar -- mol/cmol(X)*h\n",
      "Succinic acid yield (S) -- g/g\n",
      "Succinic acid yield (X) -- g/g(DW)\n",
      "Succinic acid yield c-molar (S) -- c-mol/c-mol(S)\n",
      "Succinic acid yield c-molar (X) -- c-mol/c-mol(X)\n",
      "Succinic acid yield molar (S) -- mol/mol(S)\n",
      "Succinic acid yield molar (X) -- mol/c-mol(X)\n",
      "Temperature -- °C\n",
      "Temperature Setpoint (C) -- dimensionless\n",
      "Tryptophan formation rate -- g/h\n",
      "Tryptophan formation rate molar -- mol/h\n",
      "Tryptophan formed -- g\n",
      "Tryptophan formed c-molar -- cmol\n",
      "Tryptophan formed molar -- mol\n",
      "Tryptophan lost in sample -- g\n",
      "Tryptophan specific formation rate -- g/g(DW)*h\n",
      "Tryptophan specific formation rate molar -- mol/cmol(X)*h\n",
      "Tryptophan yield (S) -- g/g\n",
      "Tryptophan yield (X) -- g/g(DW)\n",
      "Tryptophan yield c-molar (S) -- c-mol/c-mol(S)\n",
      "Tryptophan yield c-molar (X) -- c-mol/c-mol(X)\n",
      "Tryptophan yield molar (S) -- mol/mol(S)\n",
      "Tryptophan yield molar (X) -- mol/c-mol(X)\n",
      "Zn -- µg/L\n",
      "acetic acid -- g/L\n",
      "ammonium -- g/L\n",
      "caffeine -- mAU*min\n",
      "citric acid -- g/L\n",
      "ethanol -- g/L\n",
      "formic acid -- g/L\n",
      "lactate -- g/L\n",
      "lactose -- g/L\n",
      "melatonin -- g/L\n",
      "pH -- dimensionless\n",
      "pH Control Base Solution -- dimensionless\n",
      "pH Setpoint -- dimensionless\n",
      "potassium dihydrogen phosphate -- g/L\n",
      "pyruvic acid -- g/L\n",
      "succinic acid -- g/L\n",
      "tryptophan -- g/L\n"
     ]
    }
   ],
   "source": [
    "for var in variables:\n",
    "    print(var[\"name\"], \"--\",var[\"unit\"])"
   ]
  }
 ],
 "metadata": {
  "kernelspec": {
   "display_name": "Python 3 (ipykernel)",
   "language": "python",
   "name": "python3"
  },
  "language_info": {
   "codemirror_mode": {
    "name": "ipython",
    "version": 3
   },
   "file_extension": ".py",
   "mimetype": "text/x-python",
   "name": "python",
   "nbconvert_exporter": "python",
   "pygments_lexer": "ipython3",
   "version": "3.9.19"
  }
 },
 "nbformat": 4,
 "nbformat_minor": 5
}
