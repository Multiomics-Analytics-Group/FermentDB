{
 "cells": [
  {
   "cell_type": "markdown",
   "metadata": {},
   "source": [
    "# FermentDB - Calculator formulas\n",
    "\n",
    "\n",
    "- [1. Production Rates](#1-production-rates)\n",
    "- [2. Yields](#2-yields)\n",
    "- [3. Titer](#3-titer)\n",
    "- [4. Others](#4-others)"
   ]
  },
  {
   "cell_type": "markdown",
   "metadata": {},
   "source": [
    "### 1. Production Rates\n"
   ]
  },
  {
   "cell_type": "code",
   "execution_count": null,
   "metadata": {},
   "outputs": [],
   "source": [
    "def calculate_biomass_specific_production_rate():\n",
    "    \"\"\"\n",
    "    Calculate rp: biomass-specific production rate, in g/(g biomass*h)\n",
    "    Calculate rs: ????????\n",
    "    \"\"\"\n",
    "    \n",
    "\n",
    "def calculate_production_rate(input, biomass, volume):\n",
    "    \"\"\"\n",
    "    Calculates the production rate for the product, substate or for the biomass.\n",
    "    Rp: production rate for the product (P). Input is rp: biomass-specific production rate, in g/(g biomass*h)\n",
    "    Rs: production rate for the substrate (S). Input is rs: ????\n",
    "    Rx: production rate for the biomass (X). Input is growth rate or so called mu or 'μ' (1/h)\n",
    "    \n",
    "    Keyword arguments:\n",
    "    input   -- Can be product (rp), substrate (rs) or biomass (growth_rate)\n",
    "    biomass -- biomass concentration, g biomass/l\n",
    "    volume  -- volume, in l\n",
    "\n",
    "    \"\"\"\n",
    "    production_rate = input * biomass * volume\n",
    "\n",
    "    return production_rate\n",
    "\n"
   ]
  },
  {
   "cell_type": "markdown",
   "metadata": {},
   "source": [
    "### 2. Yields\n"
   ]
  },
  {
   "cell_type": "code",
   "execution_count": null,
   "metadata": {},
   "outputs": [],
   "source": [
    "def calculate_biomass_product_yield(production_rate, substrate_production_rate):\n",
    "    \"\"\"\n",
    "    If production_rate is biomass_production_rate (Rx):\n",
    "        Calculates the Ysx, in g biomass produced / g substrate consumed.\n",
    "\n",
    "    If production_rate is product_production_rate (Rp):\n",
    "        Calculates the Ysp, in g product produced / g substrate consumed.\n",
    "    \n",
    "    Keyword arguments:\n",
    "    production_rate           -- Rx (biomass_production_rate) or Rp (product_production_rate)\n",
    "    substrate_production_rate -- Rs\n",
    "    \"\"\"\n",
    "    biomass_product_yield = production_rate / substrate_production_rate\n",
    "\n",
    "    return biomass_product_yield"
   ]
  },
  {
   "cell_type": "markdown",
   "metadata": {},
   "source": [
    "### 3. Titer"
   ]
  },
  {
   "cell_type": "code",
   "execution_count": null,
   "metadata": {},
   "outputs": [],
   "source": [
    "def calculate_product_formed(product_production_rate, time):\n",
    "    \"\"\"\n",
    "    Calculate the product of the production rate and time.\n",
    "\n",
    "    Keyqords:\n",
    "    product_production_rate -- Rp\n",
    "    time                    -- t in h\n",
    "    \"\"\"\n",
    "\n",
    "    product_formed = product_production_rate * time\n",
    "\n",
    "    return product_formed\n",
    "\n",
    "def calculate_product_titer(product_production_rate, time, volume):\n",
    "    \"\"\"\n",
    "    Calculate the product titer (Cp), in g product/L: the concentration of the product in the culture.\n",
    "\n",
    "    Keyword arguments:\n",
    "    product_formed -- the product of the Rp and time (t, in h). \n",
    "    volume  -- volumne, in L.\n",
    "\n",
    "    \"\"\"\n",
    "    product_titer = calculate_product_formed(product_production_rate, time) / volume\n",
    "    \n",
    "    return product_titer"
   ]
  },
  {
   "cell_type": "markdown",
   "metadata": {},
   "source": [
    "### 3. Others"
   ]
  },
  {
   "cell_type": "code",
   "execution_count": null,
   "metadata": {},
   "outputs": [],
   "source": [
    "#TODO: doble check, all three are wrong!!!!\n",
    "\n",
    "def calculate_biomass_formation_rate():\n",
    "    \"\"\"\n",
    "    \"\"\"\n",
    "\n",
    "def calculate_substrate_uptake_rate(mu, biomass_yield, maintenance_rate):\n",
    "    \"\"\"\n",
    "\n",
    "    Keywords:\n",
    "    mu -- growth rate or 'μ'\n",
    "    biomass_yield -- Ysx: grams of biomass produced divided per grams of substrate consumed\n",
    "    maintenance_rate -- Rate at which substrate is converted into CO2 to gain energy\n",
    "    \"\"\"\n",
    "\n",
    "    susbtrate_uptake_rate = (mu/biomass_yield) + maintenance_rate\n",
    "\n",
    "    return susbtrate_uptake_rate\n",
    "\n",
    "\n",
    "def calculate_growth_rate():\n",
    "    \"\"\"\n",
    "    Calculate the biomass speicific growth rate (μ)\n",
    "\n",
    "    Keyword arguments:\n",
    "    biomass_formation_rate -- (c-mol/h)\n",
    "    substrate_uptake_rate  -- (mol/h)\n",
    "\n",
    "    \"\"\"\n",
    "    growth_rate = calculate_biomass_formation_rate() / calculate_substrate_uptake_rate()\n",
    "\n",
    "    return growth_rate\n",
    "\n",
    "\n"
   ]
  }
 ],
 "metadata": {
  "language_info": {
   "name": "python"
  }
 },
 "nbformat": 4,
 "nbformat_minor": 2
}
