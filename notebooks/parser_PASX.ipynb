{
 "cells": [
  {
   "cell_type": "code",
   "execution_count": 19,
   "id": "3b96a6a9-cc90-46f7-9a29-ed9e73623d8a",
   "metadata": {},
   "outputs": [],
   "source": [
    "#!pip install pandas\n",
    "#! pip install pyarango"
   ]
  },
  {
   "cell_type": "code",
   "execution_count": 186,
   "id": "33ae25ad-ad5c-4bff-957c-1d9a124d7864",
   "metadata": {},
   "outputs": [],
   "source": [
    "import os\n",
    "import yaml\n",
    "import json\n",
    "from functools import reduce\n",
    "import operator"
   ]
  },
  {
   "cell_type": "code",
   "execution_count": 187,
   "id": "30c3e111-55d5-4282-a0eb-515d579d85d4",
   "metadata": {},
   "outputs": [],
   "source": [
    "data_dir = '../data'\n",
    "data_path = os.path.join(data_dir, \"CrashMS_high resolution HD experiment.json\")\n",
    "config_path = 'parser_config.yaml'"
   ]
  },
  {
   "cell_type": "code",
   "execution_count": 188,
   "id": "fea694ac-dfea-476d-ac97-b85010fc9bfb",
   "metadata": {},
   "outputs": [],
   "source": [
    "with open(data_path, 'r') as dbfile:\n",
    "    data = json.load(dbfile)"
   ]
  },
  {
   "cell_type": "code",
   "execution_count": 189,
   "id": "39ca9d84-0af3-42ac-b633-bc2818c37bae",
   "metadata": {},
   "outputs": [
    {
     "data": {
      "text/plain": [
       "dict_keys(['modification_time', 'result_notes', 'tags', 'departments', 'event_names', 'start', 'key_variable', 'editable', 'sites', 'creation_time', 'end', 'workflow', 'created_by', 'manager', 'trending_settings', 'editable_plots', 'country', 'unit_operations', 'name', 'description', 'deletable', 'type', 'batch_phase_names', 'project', 'progress', 'id', 'status', 'batches'])"
      ]
     },
     "execution_count": 189,
     "metadata": {},
     "output_type": "execute_result"
    }
   ],
   "source": [
    "data.keys()"
   ]
  },
  {
   "cell_type": "code",
   "execution_count": 190,
   "id": "95598ec1-d528-4dba-8971-c723bc1a70b8",
   "metadata": {},
   "outputs": [],
   "source": [
    "with open(config_path, 'r') as cfile:\n",
    "    config = yaml.load(cfile, Loader=yaml.SafeLoader)"
   ]
  },
  {
   "cell_type": "code",
   "execution_count": 191,
   "id": "f469113b-04b0-47c3-8dc0-a3d28b698efd",
   "metadata": {},
   "outputs": [
    {
     "data": {
      "text/plain": [
       "{'Project': {'id': 'project',\n",
       "  'name': 'name',\n",
       "  'description': 'description',\n",
       "  'progress': 'progress',\n",
       "  'status': 'status',\n",
       "  'deletable': 'deletable',\n",
       "  'editable': 'editable',\n",
       "  'type': 'type',\n",
       "  'creation_time': 'creation_time',\n",
       "  'tags': 'tags',\n",
       "  'modification_time': 'modification_time',\n",
       "  'start': 'start',\n",
       "  'end': 'end'},\n",
       " 'Country': {'id': 'country', 'name': 'country'},\n",
       " 'User': {'id': 'manager/username',\n",
       "  'name': 'manager/first_name',\n",
       "  'surname': 'manager/last_name'},\n",
       " 'Batch_cell_culture': {'id': 'id', 'name': 'name'},\n",
       " 'Run': {'batches': {'id': 'id',\n",
       "   'name': 'name',\n",
       "   'description': 'description',\n",
       "   'creation_time': 'creation_time',\n",
       "   'modification_time': 'modification_time',\n",
       "   'batch_start': 'batch_start',\n",
       "   'batch_end': 'batch_end',\n",
       "   'first_timestamp': 'first_timestamp',\n",
       "   'last_timestamp': 'last_timestamp'}}}"
      ]
     },
     "execution_count": 191,
     "metadata": {},
     "output_type": "execute_result"
    }
   ],
   "source": [
    "config"
   ]
  },
  {
   "cell_type": "code",
   "execution_count": 192,
   "id": "03a4becc-79a7-4191-a505-decba440eb44",
   "metadata": {},
   "outputs": [],
   "source": [
    "def get_from_nested_dict(data_dict:dict, map_list:list):\n",
    "    '''\n",
    "    Extracts value from a nested dictionary given a list of keys (different levels).\n",
    "\n",
    "    parameters:\n",
    "        data_dict (dict): dictionary structure \n",
    "        map_list (list): list of nested keys\n",
    "\n",
    "    return:\n",
    "        nested_value: nested value given the provided list of keys\n",
    "\n",
    "    example:\n",
    "        data_dict = {'a': {'b': {'c': 5}}}\n",
    "        value = get_from_nested_dict(data_dict=data_dict, map_list=['a', 'b', 'c'])\n",
    "        print(value)\n",
    "        5\n",
    "    '''\n",
    "    nested_value = reduce(operator.getitem, map_list, data_dict)\n",
    "    \n",
    "    return nested_value"
   ]
  },
  {
   "cell_type": "code",
   "execution_count": 193,
   "id": "e7584849-9792-4bae-ad39-18da5c46971b",
   "metadata": {},
   "outputs": [],
   "source": [
    "def get_collections_fom_pasx(data: dict, config: dict) -> dict:\n",
    "    '''\n",
    "    This function creates a dictionary with the collections expected\n",
    "    in FermentDB. It requires a dictionary with the data exported from PASEX\n",
    "    in json format, and a configuration file that specifies the mapping between\n",
    "    PASEX and FermentDB structure. See example in '/config/parser_config.yaml'\n",
    "\n",
    "    parameters:\n",
    "        data (dict): dictionary with the data read from PASEX in json format\n",
    "        config (dict): mapping configuration to adapt to FermentDB struture\n",
    "\n",
    "    return:\n",
    "        collections (dict): dictionary with the expected objects in FermentDB\n",
    "\n",
    "    Example:\n",
    "        get_collections_fom_pasex(data=pasex_json_dict, config=parser_config.yaml)\n",
    "    '''\n",
    "    collections = {}\n",
    "    for c in config:\n",
    "        collections[c] = {}\n",
    "        for a in config[c]:\n",
    "            if type(config[c][a]) != dict:\n",
    "                key = config[c][a].split('/')\n",
    "                collections[c].update({a: get_from_nested_dict(data, key)})\n",
    "            else:\n",
    "                collections[c] = []\n",
    "                for nested_data in data[a]:\n",
    "                    nested_collection = {}\n",
    "                    for nested_a in config[c][a]:\n",
    "                        key = config[c][a][nested_a].split('/')\n",
    "                        nested_collection.update({nested_a: get_from_nested_dict(nested_data, key)})\n",
    "                    collections[c].append(nested_collection)\n",
    "\n",
    "    return collections"
   ]
  },
  {
   "cell_type": "code",
   "execution_count": 194,
   "id": "848efb7c-d2a1-4022-95a4-8582b7ecb645",
   "metadata": {},
   "outputs": [],
   "source": [
    "collections = get_collections_fom_pasx(data, config)"
   ]
  },
  {
   "cell_type": "code",
   "execution_count": 195,
   "id": "c6c083fa-6595-47fa-98ce-8c9e6303ced8",
   "metadata": {},
   "outputs": [],
   "source": [
    "collections_str = json.dumps(collections)"
   ]
  },
  {
   "cell_type": "code",
   "execution_count": 196,
   "id": "cc77c8fc-1de8-4d62-aa43-6e2671b3d459",
   "metadata": {},
   "outputs": [],
   "source": [
    "with open('fermentdb.json', 'w') as out:\n",
    "    out.write(collections_str)"
   ]
  }
 ],
 "metadata": {
  "kernelspec": {
   "display_name": "Python 3 (ipykernel)",
   "language": "python",
   "name": "python3"
  },
  "language_info": {
   "codemirror_mode": {
    "name": "ipython",
    "version": 3
   },
   "file_extension": ".py",
   "mimetype": "text/x-python",
   "name": "python",
   "nbconvert_exporter": "python",
   "pygments_lexer": "ipython3",
   "version": "3.12.2"
  }
 },
 "nbformat": 4,
 "nbformat_minor": 5
}
